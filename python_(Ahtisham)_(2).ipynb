{
  "cells": [
    {
      "cell_type": "markdown",
      "metadata": {
        "id": "view-in-github",
        "colab_type": "text"
      },
      "source": [
        "<a href=\"https://colab.research.google.com/github/Ahtishamali17/skills-introduction-to-github/blob/main/python_(Ahtisham)_(2).ipynb\" target=\"_parent\"><img src=\"https://colab.research.google.com/assets/colab-badge.svg\" alt=\"Open In Colab\"/></a>"
      ]
    },
    {
      "cell_type": "code",
      "execution_count": null,
      "id": "f7c8618c",
      "metadata": {
        "id": "f7c8618c",
        "outputId": "f53b7fc3-64d5-464f-cff9-a4ff2e18ba60"
      },
      "outputs": [
        {
          "name": "stdout",
          "output_type": "stream",
          "text": [
            "Hello World!\n"
          ]
        }
      ],
      "source": [
        "print(\"Hello World!\")"
      ]
    },
    {
      "cell_type": "code",
      "execution_count": null,
      "id": "37730b23",
      "metadata": {
        "id": "37730b23",
        "outputId": "826b00d5-8214-4102-8af0-7cebdc15713f"
      },
      "outputs": [
        {
          "name": "stdout",
          "output_type": "stream",
          "text": [
            "15\n"
          ]
        }
      ],
      "source": [
        "a=5\n",
        "b=10\n",
        "print(a+b)"
      ]
    },
    {
      "cell_type": "code",
      "execution_count": null,
      "id": "844bc6f8",
      "metadata": {
        "id": "844bc6f8",
        "outputId": "ddfc5561-8216-4202-a4d7-2e0e26fd72cb"
      },
      "outputs": [
        {
          "name": "stdout",
          "output_type": "stream",
          "text": [
            "Select operation:\n",
            "1. Add\n",
            "2. Subtract\n",
            "3. Multiply\n",
            "4. Divide\n",
            "5. Exit\n",
            "Enter choice(1/2/3/4/5): 5\n"
          ]
        }
      ],
      "source": [
        "def add(x, y):\n",
        "    return x + y\n",
        "\n",
        "def subtract(x, y):\n",
        "    return x - y\n",
        "\n",
        "def multiply(x, y):\n",
        "    return x * y\n",
        "\n",
        "def divide(x, y):\n",
        "    if y == 0:\n",
        "        return \"Cannot divide by zero\"\n",
        "    return x / y\n",
        "\n",
        "while True:\n",
        "    print(\"Select operation:\")\n",
        "    print(\"1. Add\")\n",
        "    print(\"2. Subtract\")\n",
        "    print(\"3. Multiply\")\n",
        "    print(\"4. Divide\")\n",
        "    print(\"5. Exit\")\n",
        "\n",
        "    choice = input(\"Enter choice(1/2/3/4/5): \")\n",
        "\n",
        "    if choice == '5':\n",
        "        break\n",
        "\n",
        "    num1 = float(input(\"Enter first number: \"))\n",
        "    num2 = float(input(\"Enter second number: \"))\n",
        "\n",
        "    if choice == '1':\n",
        "        print(f\"{num1} + {num2} = {add(num1, num2)}\")\n",
        "    elif choice == '2':\n",
        "        print(f\"{num1} - {num2} = {subtract(num1, num2)}\")\n",
        "    elif choice == '3':\n",
        "        print(f\"{num1} * {num2} = {multiply(num1, num2)}\")\n",
        "    elif choice == '4':\n",
        "        print(f\"{num1} / {num2} = {divide(num1, num2)}\")\n",
        "    else:\n",
        "        print(\"Invalid input\")\n"
      ]
    },
    {
      "cell_type": "code",
      "execution_count": null,
      "id": "890a5e24",
      "metadata": {
        "id": "890a5e24"
      },
      "outputs": [],
      "source": []
    },
    {
      "cell_type": "code",
      "execution_count": null,
      "id": "1f7f271f",
      "metadata": {
        "id": "1f7f271f",
        "outputId": "016b7022-217a-4057-fda7-3bb6c93f339b"
      },
      "outputs": [
        {
          "name": "stdout",
          "output_type": "stream",
          "text": [
            "19\n",
            "Ahtisham Ali\n"
          ]
        }
      ],
      "source": [
        "\n",
        "\n"
      ]
    },
    {
      "cell_type": "code",
      "execution_count": null,
      "id": "d1d77776",
      "metadata": {
        "scrolled": true,
        "id": "d1d77776",
        "outputId": "62c1efc5-2a55-4ac3-fcc0-25c9854e7f6d"
      },
      "outputs": [
        {
          "name": "stdout",
          "output_type": "stream",
          "text": [
            "My name is ahtisham ali  & my age is 19\n",
            "age is :19,name is :ahtisham ali\n",
            "age is : 19 , namw is: ahtisham ali\n"
          ]
        }
      ],
      "source": [
        "age = 19\n",
        "name=\"ahtisham ali\"\n",
        "print(\"My name is\",name, \" & my age is\",age)\n",
        "print(f\"age is :{age},name is :{name}\")\n",
        "print(\"age is : {} , namw is: {}\". format(age,name))"
      ]
    },
    {
      "cell_type": "code",
      "execution_count": null,
      "id": "41a7150c",
      "metadata": {
        "id": "41a7150c",
        "outputId": "e3d5e2e4-ad63-48b3-fc13-e4cc498be4c1"
      },
      "outputs": [
        {
          "name": "stdout",
          "output_type": "stream",
          "text": [
            "Hello everyone! \n",
            " Today we're going to learn python Programing\n",
            "Hello everyone!Today we're going to learn python Programing "
          ]
        }
      ],
      "source": [
        "a =\"Hello everyone!\"\n",
        "b =\"Today we're going to learn python Programing\"\n",
        "print(a,'\\n',b)\n",
        "print(a, end='')\n",
        "print(b, end=' ')"
      ]
    },
    {
      "cell_type": "code",
      "execution_count": null,
      "id": "9005c1cd",
      "metadata": {
        "id": "9005c1cd",
        "outputId": "847bccd6-14e6-4a82-ca97-f816b46a4dd4"
      },
      "outputs": [
        {
          "name": "stdout",
          "output_type": "stream",
          "text": [
            "Enter first number: 1\n",
            "Enter second number: 2\n"
          ]
        }
      ],
      "source": [
        "num1 = float(input(\"Enter first number: \"))\n",
        "num2 = float(input(\"Enter second number: \"))"
      ]
    },
    {
      "cell_type": "code",
      "execution_count": null,
      "id": "1fa530f8",
      "metadata": {
        "id": "1fa530f8",
        "outputId": "1f6d6f31-1e20-4d95-ec8d-372f8faa72b5"
      },
      "outputs": [
        {
          "name": "stdout",
          "output_type": "stream",
          "text": [
            "Enter first number: 150\n",
            "Enter second number: 154\n",
            "result is 304.0\n"
          ]
        }
      ],
      "source": [
        "num1 = float(input(\"Enter first number: \"))\n",
        "num2 = float(input(\"Enter second number: \"))\n",
        "result= num1+num2\n",
        "print(\"result is\",result)"
      ]
    },
    {
      "cell_type": "code",
      "execution_count": null,
      "id": "a930109c",
      "metadata": {
        "id": "a930109c",
        "outputId": "b597f586-5032-4a17-9a0b-b7a9fdb39fcd"
      },
      "outputs": [
        {
          "name": "stdout",
          "output_type": "stream",
          "text": [
            "Enter first number: 154\n",
            "Enter second number: 158\n",
            "the first number is 154 \n",
            " the second number is 158\n",
            "the result is -4\n"
          ]
        }
      ],
      "source": [
        "num1 = int(input(\"Enter first number: \"))\n",
        "num2 = int(input(\"Enter second number: \"))\n",
        "subtract = num1-num2\n",
        "print(\"the first number is\", num1,'\\n',\"the second number is\",num2)\n",
        "print(\"the result is\",subtract)"
      ]
    },
    {
      "cell_type": "code",
      "execution_count": null,
      "id": "df190f9a",
      "metadata": {
        "id": "df190f9a",
        "outputId": "b1397b2c-0bb9-455d-e537-df4624154cfa"
      },
      "outputs": [
        {
          "name": "stdout",
          "output_type": "stream",
          "text": [
            "Enter the first no15\n",
            "Enter the second no45\n",
            "after swaping\n",
            "first number 45\n",
            "second number 15\n"
          ]
        }
      ],
      "source": [
        "#Swapping two numbers using third variable!!\n",
        "a= int(input(\"Enter the first no\"))\n",
        "b= int(input(\"Enter the second no\"))\n",
        "temp=a\n",
        "a=b\n",
        "b=temp\n",
        "print(\"after swaping\")\n",
        "print(\"first number\",a)\n",
        "print(\"second number\",b)"
      ]
    },
    {
      "cell_type": "code",
      "execution_count": null,
      "id": "2aa54005",
      "metadata": {
        "id": "2aa54005",
        "outputId": "e646f9d2-6ade-4f8c-bfc9-adf78535d929"
      },
      "outputs": [
        {
          "name": "stdout",
          "output_type": "stream",
          "text": [
            "enter first number15\n",
            "enter second number45\n",
            "After swaping\n",
            "first no. is 45\n",
            "second no. is 15\n"
          ]
        }
      ],
      "source": [
        "#Swapping two numbers without using third variable!!\n",
        "n1=int(input(\"enter first number\"))\n",
        "n2=int(input(\"enter second number\"))\n",
        "n1=n1+n2\n",
        "n2=n1-n2\n",
        "n1=n1-n2\n",
        "print(\"After swaping\")\n",
        "print(\"first no. is\",n1)\n",
        "print(\"second no. is\",n2)"
      ]
    },
    {
      "cell_type": "code",
      "execution_count": null,
      "id": "cde636d4",
      "metadata": {
        "id": "cde636d4",
        "outputId": "fb38c5ba-8621-4f85-9fcf-765286f3b99d"
      },
      "outputs": [
        {
          "name": "stdout",
          "output_type": "stream",
          "text": [
            "enter the 1st side of triangle45\n",
            "enter the 2nd side of triangle15\n",
            "enter the 3rd side of triangle45\n",
            "Area of triangle is 332.7794877993534 \n",
            " & perimeter is 105\n"
          ]
        }
      ],
      "source": [
        "#Calculating the area and perimeter of traingle by using math fuction!!\n",
        "import math\n",
        "a=int(input(\"enter the 1st side of triangle\"))\n",
        "b=int(input(\"enter the 2nd side of triangle\"))\n",
        "c=int(input(\"enter the 3rd side of triangle\"))\n",
        "perimeter=a+b+c\n",
        "s=perimeter/2\n",
        "area= math.sqrt(s*(s-a)*(s-b)*(s-c))\n",
        "print(\"Area of triangle is\",area,'\\n',\"& perimeter is\",perimeter)"
      ]
    },
    {
      "cell_type": "code",
      "execution_count": null,
      "id": "cbaa2164",
      "metadata": {
        "id": "cbaa2164",
        "outputId": "39ce2d52-460a-49a1-8906-3415f94ccb98"
      },
      "outputs": [
        {
          "name": "stdout",
          "output_type": "stream",
          "text": [
            "enter temperature in fahrenheit:132\n",
            "55.55555555555556\n"
          ]
        }
      ],
      "source": [
        "f=float(input(\"enter temperature in fahrenheit:\"))\n",
        "c=(f-32)*5/9\n",
        "print(c)"
      ]
    },
    {
      "cell_type": "code",
      "execution_count": null,
      "id": "ee73c68c",
      "metadata": {
        "id": "ee73c68c",
        "outputId": "ea90b989-564b-40a5-ff33-f04dfd7e7ee6"
      },
      "outputs": [
        {
          "name": "stdout",
          "output_type": "stream",
          "text": [
            "enter the radius pof cylinder15.5\n",
            "enter the height of the cylinder14\n",
            "2872.9864817078656\n"
          ]
        }
      ],
      "source": [
        "import math\n",
        "r= float(input(\"enter the radius pof cylinder\"))\n",
        "h= float(input(\"enter the height of the cylinder\"))\n",
        "surface_area=2*math.pi*r*(r+h)\n",
        "print(surface_area)"
      ]
    },
    {
      "cell_type": "code",
      "execution_count": null,
      "id": "6b1301a8",
      "metadata": {
        "id": "6b1301a8",
        "outputId": "45576145-3988-44f3-9da4-86b6a9d2d60d"
      },
      "outputs": [
        {
          "name": "stdout",
          "output_type": "stream",
          "text": [
            "Enter the principal amount: 15\n",
            "Enter the annual rate of interest (in %): 45\n",
            "Enter the time (in years): 2\n",
            "The compound interest is: 16.5375\n"
          ]
        }
      ],
      "source": [
        " principal = float(input(\"Enter the principal amount: \"))\n",
        " rate = float(input(\"Enter the annual rate of interest (in %): \"))\n",
        " time = float(input(\"Enter the time (in years): \"))\n",
        " compound_interest = principal * (1 + rate / 100)**time- principal\n",
        " print(\"The compound interest is:\", compound_interest)"
      ]
    },
    {
      "cell_type": "code",
      "execution_count": null,
      "id": "0e96f70c",
      "metadata": {
        "id": "0e96f70c",
        "outputId": "988d988b-a703-4a3d-ac44-8b8edce22b32"
      },
      "outputs": [
        {
          "name": "stdout",
          "output_type": "stream",
          "text": [
            "enter the base of the triangle: 15\n",
            "enter the height of the triangle: 4\n",
            "hypotaneous of triangle is 15.52\n"
          ]
        }
      ],
      "source": [
        "import math\n",
        "b=float(input(\"enter the base of the triangle: \"))\n",
        "h=float(input(\"enter the height of the triangle: \"))\n",
        "hypotaneous= math.sqrt(b**2+h**2)\n",
        "print(f\"hypotaneous of triangle is {hypotaneous:.2f}\")"
      ]
    },
    {
      "cell_type": "code",
      "execution_count": null,
      "id": "a6f1dbb1",
      "metadata": {
        "id": "a6f1dbb1",
        "outputId": "3fa53079-64c3-46e2-838f-bbf78d7f348a"
      },
      "outputs": [
        {
          "name": "stdout",
          "output_type": "stream",
          "text": [
            "Enter first number: 10\n",
            "Enter second number: 50\n",
            "Enter third number: 15\n",
            "The average is: 25.0\n"
          ]
        }
      ],
      "source": [
        "num1 = float(input(\"Enter first number: \"))\n",
        "num2 = float(input(\"Enter second number: \"))\n",
        "num3 = float(input(\"Enter third number: \"))\n",
        "average = (num1 + num2 + num3) / 3\n",
        "print(\"The average is:\", average)\n",
        "\n"
      ]
    },
    {
      "cell_type": "code",
      "execution_count": null,
      "id": "073f6c92",
      "metadata": {
        "id": "073f6c92",
        "outputId": "84234a54-7bab-448e-8f11-ad18a6d04fa1"
      },
      "outputs": [
        {
          "name": "stdout",
          "output_type": "stream",
          "text": [
            "Enter marks for subject 1: 85\n",
            "Enter marks for subject 2: 74\n",
            "Enter marks for subject 3: 84\n",
            "Enter marks for subject 4: 56\n",
            "Enter marks for subject 5: 96\n",
            "Total Marks: 395.0\n",
            "Percentage: 79.0\n"
          ]
        }
      ],
      "source": [
        "marks = []\n",
        "for i in range(5):\n",
        "    marks.append(float(input(f\"Enter marks for subject {i + 1}: \")))\n",
        "total_marks = sum(marks)\n",
        "percentage = (total_marks / 500) * 100\n",
        "print(\"Total Marks:\", total_marks)\n",
        "print(\"Percentage:\", percentage)\n",
        "\n"
      ]
    },
    {
      "cell_type": "code",
      "execution_count": null,
      "id": "15d71487",
      "metadata": {
        "id": "15d71487",
        "outputId": "f0efad30-df1c-488c-baec-4c3a6661a9e5"
      },
      "outputs": [
        {
          "name": "stdout",
          "output_type": "stream",
          "text": [
            "Enter the basic salary: 45000\n",
            "Enter HRA percentage: 54000\n",
            "Enter DA percentage: 15\n",
            "Gross Salary is: 24351750.0\n"
          ]
        }
      ],
      "source": [
        "basic_salary = float(input(\"Enter the basic salary: \"))\n",
        "hra_percentage = float(input(\"Enter HRA percentage: \"))\n",
        "da_percentage = float(input(\"Enter DA percentage: \"))\n",
        "hra = (hra_percentage / 100) * basic_salary\n",
        "da = (da_percentage / 100) * basic_salary\n",
        "gross_salary = basic_salary + hra + da\n",
        "print(\"Gross Salary is:\", gross_salary)\n"
      ]
    },
    {
      "cell_type": "code",
      "execution_count": null,
      "id": "34b2e0fe",
      "metadata": {
        "id": "34b2e0fe",
        "outputId": "ba984e34-5cd4-4d00-f740-f48be3b6c71a"
      },
      "outputs": [
        {
          "name": "stdout",
          "output_type": "stream",
          "text": [
            "Enter the radius of the circle: 4\n",
            "The area of the circle is: 50.26548245743669\n"
          ]
        }
      ],
      "source": [
        "import math\n",
        "radius = float(input(\"Enter the radius of the circle: \"))\n",
        "area = math.pi * radius * radius\n",
        "print(\"The area of the circle is:\", area)\n"
      ]
    },
    {
      "cell_type": "code",
      "execution_count": null,
      "id": "380bf414",
      "metadata": {
        "id": "380bf414",
        "outputId": "62cd3c2f-3358-40cd-b039-8091c95b85bd"
      },
      "outputs": [
        {
          "name": "stdout",
          "output_type": "stream",
          "text": [
            "Enter the length of the rectangle: 10\n",
            "Enter the width of the rectangle: 4\n",
            "The area of the rectangle is: 40.0\n"
          ]
        }
      ],
      "source": [
        "length = float(input(\"Enter the length of the rectangle: \"))\n",
        "width = float(input(\"Enter the width of the rectangle: \"))\n",
        "area = length * width\n",
        "print(\"The area of the rectangle is:\", area)\n",
        "\n"
      ]
    },
    {
      "cell_type": "code",
      "execution_count": null,
      "id": "febba7cc",
      "metadata": {
        "id": "febba7cc",
        "outputId": "437c37f4-9465-42d6-beeb-09e3dab54313"
      },
      "outputs": [
        {
          "name": "stdout",
          "output_type": "stream",
          "text": [
            "Enter the side length of the square: 10\n",
            "The area of the square is: 100.0\n"
          ]
        }
      ],
      "source": [
        "side = float(input(\"Enter the side length of the square: \"))\n",
        "area = side * side\n",
        "print(\"The area of the square is:\", area)\n"
      ]
    },
    {
      "cell_type": "code",
      "execution_count": null,
      "id": "9754cf10",
      "metadata": {
        "id": "9754cf10",
        "outputId": "ffc5f747-a613-4004-b3bf-e67cf88845ce"
      },
      "outputs": [
        {
          "name": "stdout",
          "output_type": "stream",
          "text": [
            "Enter the radius of the circle: 7\n",
            "Area of the circle: 153.93804002589985\n",
            "Circumference of the circle: 43.982297150257104\n"
          ]
        }
      ],
      "source": [
        "import math\n",
        "radius = float(input(\"Enter the radius of the circle: \"))\n",
        "area = math.pi * radius * radius\n",
        "circumference = 2 * math.pi * radius\n",
        "print(\"Area of the circle:\", area)\n",
        "print(\"Circumference of the circle:\", circumference)\n"
      ]
    },
    {
      "cell_type": "code",
      "execution_count": null,
      "id": "e3853bc0",
      "metadata": {
        "id": "e3853bc0",
        "outputId": "8683a26d-eb69-41c0-f540-3a7df68227b4"
      },
      "outputs": [
        {
          "name": "stdout",
          "output_type": "stream",
          "text": [
            "Enter side a of the triangle: 5\n",
            "Enter side b of the triangle: 5\n",
            "Enter side c of the triangle: 6\n",
            "The area of the scalene triangle is: 12.0\n"
          ]
        }
      ],
      "source": [
        "import math\n",
        "a = float(input(\"Enter side a of the triangle: \"))\n",
        "b = float(input(\"Enter side b of the triangle: \"))\n",
        "c = float(input(\"Enter side c of the triangle: \"))\n",
        "s = (a + b + c) / 2\n",
        "area =math.sqrt(s * (s - a) * (s - b) * (s - c))\n",
        "print(\"The area of the scalene triangle is:\", area)\n"
      ]
    },
    {
      "cell_type": "code",
      "execution_count": null,
      "id": "33798fbf",
      "metadata": {
        "id": "33798fbf",
        "outputId": "1080c2b0-808e-49d2-c747-4262f056f0cd"
      },
      "outputs": [
        {
          "name": "stdout",
          "output_type": "stream",
          "text": [
            "Enter the base of the right angle triangle: 10\n",
            "Enter the height of the right angle triangle: 5\n",
            "The area of the right angle triangle is: 25.0\n"
          ]
        }
      ],
      "source": [
        "base = float(input(\"Enter the base of the right angle triangle: \"))\n",
        "height = float(input(\"Enter the height of the right angle triangle: \"))\n",
        "area = 0.5 * base * height\n",
        "print(\"The area of the right angle triangle is:\", area)\n"
      ]
    },
    {
      "cell_type": "code",
      "execution_count": null,
      "id": "0549d0e9",
      "metadata": {
        "id": "0549d0e9",
        "outputId": "c763f091-f92e-4729-a70a-6161e5a12edd"
      },
      "outputs": [
        {
          "name": "stdout",
          "output_type": "stream",
          "text": [
            "Enter the length of the first parallel side of the trapezium: 10\n",
            "Enter the length of the second parallel side of the trapezium: 15\n",
            "Enter the height of the trapezium: 10\n",
            "The area of the trapezium is: 125.0\n"
          ]
        }
      ],
      "source": [
        "a = float(input(\"Enter the length of the first parallel side of the trapezium: \"))\n",
        "b = float(input(\"Enter the length of the second parallel side of the trapezium: \"))\n",
        "height = float(input(\"Enter the height of the trapezium: \"))\n",
        "area = 0.5 * (a + b) * height\n",
        "print(\"The area of the trapezium is:\", area)\n"
      ]
    },
    {
      "cell_type": "code",
      "execution_count": null,
      "id": "0cc26359",
      "metadata": {
        "id": "0cc26359",
        "outputId": "dcce6c32-7bc3-49ac-9d9e-f6c9b6b3b83e"
      },
      "outputs": [
        {
          "data": {
            "text/plain": [
              "['False',\n",
              " 'None',\n",
              " 'True',\n",
              " 'and',\n",
              " 'as',\n",
              " 'assert',\n",
              " 'async',\n",
              " 'await',\n",
              " 'break',\n",
              " 'class',\n",
              " 'continue',\n",
              " 'def',\n",
              " 'del',\n",
              " 'elif',\n",
              " 'else',\n",
              " 'except',\n",
              " 'finally',\n",
              " 'for',\n",
              " 'from',\n",
              " 'global',\n",
              " 'if',\n",
              " 'import',\n",
              " 'in',\n",
              " 'is',\n",
              " 'lambda',\n",
              " 'nonlocal',\n",
              " 'not',\n",
              " 'or',\n",
              " 'pass',\n",
              " 'raise',\n",
              " 'return',\n",
              " 'try',\n",
              " 'while',\n",
              " 'with',\n",
              " 'yield']"
            ]
          },
          "execution_count": 33,
          "metadata": {},
          "output_type": "execute_result"
        }
      ],
      "source": [
        "import keyword\n",
        "keyword.kwlist\n"
      ]
    },
    {
      "cell_type": "code",
      "execution_count": null,
      "id": "8133ae2d",
      "metadata": {
        "id": "8133ae2d",
        "outputId": "29a91875-6fb4-4dc3-aeab-d93b879111ea"
      },
      "outputs": [
        {
          "name": "stdout",
          "output_type": "stream",
          "text": [
            "<class 'int'>\n"
          ]
        }
      ],
      "source": [
        "a=5\n",
        "print(type(a))"
      ]
    },
    {
      "cell_type": "code",
      "execution_count": null,
      "id": "4331cdc3",
      "metadata": {
        "id": "4331cdc3",
        "outputId": "2d9a1402-899a-4c2f-c14f-ce6a41dee16b"
      },
      "outputs": [
        {
          "name": "stdout",
          "output_type": "stream",
          "text": [
            "<class 'float'> \n",
            " <class 'str'> \n",
            " <class 'str'>\n",
            "<class 'int'>\n"
          ]
        }
      ],
      "source": [
        "b=2.5\n",
        "c=\"hello\"\n",
        "z='p1'\n",
        "print(type(b),'\\n',type(c),'\\n',type(z))\n",
        "b=5\n",
        "print(type(b))"
      ]
    },
    {
      "cell_type": "code",
      "execution_count": null,
      "id": "48606b62",
      "metadata": {
        "id": "48606b62",
        "outputId": "974441e6-099a-4cc8-bfab-9bab4d944084"
      },
      "outputs": [
        {
          "name": "stdout",
          "output_type": "stream",
          "text": [
            "<class 'int'> <class 'float'> <class 'str'>\n"
          ]
        }
      ],
      "source": [
        "x,y,z= 10,2.5,'hello'\n",
        "print(type(x),type(y),type(z))"
      ]
    },
    {
      "cell_type": "code",
      "execution_count": null,
      "id": "407f182f",
      "metadata": {
        "id": "407f182f",
        "outputId": "f77c30ce-88f6-44ba-c4c1-f545d165e06a"
      },
      "outputs": [
        {
          "name": "stdout",
          "output_type": "stream",
          "text": [
            "(10, 2.5, 'hello') (10, 2.5, 'hello') (10, 2.5, 'hello')\n"
          ]
        }
      ],
      "source": [
        "x=y=z=10,2.5,'hello'\n",
        "print(x,y,z)"
      ]
    },
    {
      "cell_type": "code",
      "execution_count": null,
      "id": "3e893e13",
      "metadata": {
        "id": "3e893e13",
        "outputId": "03462ef5-f8b0-41eb-a07f-d62c127962be"
      },
      "outputs": [
        {
          "name": "stdout",
          "output_type": "stream",
          "text": [
            "2327913593008 \n",
            " 2327894342448\n"
          ]
        }
      ],
      "source": [
        "x=45.5\n",
        "y='hello'\n",
        "print(id(x),'\\n',id(y))"
      ]
    },
    {
      "cell_type": "code",
      "execution_count": null,
      "id": "83276e4e",
      "metadata": {
        "id": "83276e4e",
        "outputId": "24f8f431-f2a1-4b1c-adf6-d04433a04ca5"
      },
      "outputs": [
        {
          "name": "stdout",
          "output_type": "stream",
          "text": [
            "5\n",
            "5\n"
          ]
        }
      ],
      "source": [
        "a=5\n",
        "print(a)\n",
        "x=0B101\n",
        "print(x)"
      ]
    },
    {
      "cell_type": "code",
      "execution_count": null,
      "id": "16e0d922",
      "metadata": {
        "id": "16e0d922",
        "outputId": "13647db9-ee68-494c-a456-ca9b5ab01bca"
      },
      "outputs": [
        {
          "name": "stdout",
          "output_type": "stream",
          "text": [
            "83\n"
          ]
        }
      ],
      "source": [
        "x=0o0123\n",
        "print(x)"
      ]
    },
    {
      "cell_type": "code",
      "execution_count": null,
      "id": "5bff57a8",
      "metadata": {
        "id": "5bff57a8",
        "outputId": "4470be04-fcb6-46d6-9397-1fdbbda9d611"
      },
      "outputs": [
        {
          "name": "stdout",
          "output_type": "stream",
          "text": [
            "16\n"
          ]
        }
      ],
      "source": [
        "x=0x10\n",
        "print(x)"
      ]
    },
    {
      "cell_type": "code",
      "execution_count": null,
      "id": "5e94a870",
      "metadata": {
        "scrolled": true,
        "id": "5e94a870",
        "outputId": "6457743d-cac9-4356-aa50-641460f993cc"
      },
      "outputs": [
        {
          "name": "stdout",
          "output_type": "stream",
          "text": [
            "2580\n"
          ]
        }
      ],
      "source": [
        "x=0xA14\n",
        "print(x)"
      ]
    },
    {
      "cell_type": "code",
      "execution_count": null,
      "id": "0fc31981",
      "metadata": {
        "id": "0fc31981",
        "outputId": "0d41bac8-2c23-42fa-9bf5-e533a326f6b1"
      },
      "outputs": [
        {
          "name": "stdout",
          "output_type": "stream",
          "text": [
            "10 \n",
            " 2 \n",
            " 8 \n",
            " 16\n"
          ]
        }
      ],
      "source": [
        "a=10\n",
        "b=0b010\n",
        "c=0o10\n",
        "d=0x10\n",
        "print(a,'\\n',b,'\\n',c,'\\n',d)"
      ]
    },
    {
      "cell_type": "code",
      "execution_count": null,
      "id": "4a929210",
      "metadata": {
        "id": "4a929210",
        "outputId": "7780bf08-9806-4fe4-b914-0b51269e49f1"
      },
      "outputs": [
        {
          "name": "stdout",
          "output_type": "stream",
          "text": [
            "232.5 668 4660\n"
          ]
        }
      ],
      "source": [
        "y=0o1234\n",
        "x=232.5\n",
        "z=0x1234\n",
        "print(x,y,z)"
      ]
    },
    {
      "cell_type": "code",
      "execution_count": null,
      "id": "eaea7edc",
      "metadata": {
        "id": "eaea7edc",
        "outputId": "d494a5eb-2778-4026-f735-19f0d87b6567"
      },
      "outputs": [
        {
          "name": "stdout",
          "output_type": "stream",
          "text": [
            "1200.0\n"
          ]
        }
      ],
      "source": [
        "a=1.2e3\n",
        "print(a)"
      ]
    },
    {
      "cell_type": "code",
      "execution_count": null,
      "id": "81111e2d",
      "metadata": {
        "id": "81111e2d",
        "outputId": "e1c0818e-6c77-4a14-c81f-7e30ff7811de"
      },
      "outputs": [
        {
          "name": "stdout",
          "output_type": "stream",
          "text": [
            "0xa \n",
            " 0b1010 \n",
            " 0o12\n"
          ]
        }
      ],
      "source": [
        "x=10\n",
        "binary=bin(x)\n",
        "octal=oct(x)\n",
        "hexadecimal=hex(x)\n",
        "print(hexadecimal,'\\n',binary,'\\n',octal)"
      ]
    },
    {
      "cell_type": "code",
      "execution_count": null,
      "id": "9df72adb",
      "metadata": {
        "id": "9df72adb",
        "outputId": "1185ace8-3cfd-4888-dd19-fba9311d8033"
      },
      "outputs": [
        {
          "name": "stdout",
          "output_type": "stream",
          "text": [
            "<class 'complex'>\n"
          ]
        }
      ],
      "source": [
        "x=2+3j\n",
        "print(type(x))"
      ]
    },
    {
      "cell_type": "code",
      "execution_count": null,
      "id": "ef39f431",
      "metadata": {
        "id": "ef39f431",
        "outputId": "06eec5a0-02c6-45e4-8583-20ebae596229"
      },
      "outputs": [
        {
          "name": "stdout",
          "output_type": "stream",
          "text": [
            "(3+3j) (9+3j) (31+3j)\n"
          ]
        }
      ],
      "source": [
        "a=0b11+3j\n",
        "b=0o11+3j\n",
        "c=0x1f+3j\n",
        "print(a,b,c)"
      ]
    },
    {
      "cell_type": "code",
      "execution_count": null,
      "id": "84924f6d",
      "metadata": {
        "id": "84924f6d",
        "outputId": "d418edbd-07a3-4653-e451-6a5bae31cc35"
      },
      "outputs": [
        {
          "name": "stdout",
          "output_type": "stream",
          "text": [
            "3j\n"
          ]
        }
      ],
      "source": [
        "x=3j\n",
        "print(x)"
      ]
    },
    {
      "cell_type": "code",
      "execution_count": null,
      "id": "7b06c393",
      "metadata": {
        "id": "7b06c393",
        "outputId": "619bb8e1-18ea-4191-bc1f-702bd6a33ff9"
      },
      "outputs": [
        {
          "name": "stdout",
          "output_type": "stream",
          "text": [
            "(2.3+45j)\n"
          ]
        }
      ],
      "source": [
        "x=2.3+45j\n",
        "print(x)"
      ]
    },
    {
      "cell_type": "code",
      "execution_count": null,
      "id": "98c4d8ad",
      "metadata": {
        "id": "98c4d8ad",
        "outputId": "37830da0-a4ca-49e3-8222-fce8b45af368"
      },
      "outputs": [
        {
          "name": "stdout",
          "output_type": "stream",
          "text": [
            "0b1111101\n"
          ]
        }
      ],
      "source": [
        "y=125\n",
        "x=bin(y)\n",
        "print(x)"
      ]
    },
    {
      "cell_type": "code",
      "execution_count": null,
      "id": "37eb1bc7",
      "metadata": {
        "id": "37eb1bc7",
        "outputId": "735862cd-7f92-47de-bb5c-b970fa08d3b6"
      },
      "outputs": [
        {
          "name": "stdout",
          "output_type": "stream",
          "text": [
            "23.0\n",
            "4.0\n"
          ]
        }
      ],
      "source": [
        "x=23+4j\n",
        "print(x.real)\n",
        "print(x.imag)"
      ]
    },
    {
      "cell_type": "code",
      "execution_count": null,
      "id": "0aadda95",
      "metadata": {
        "id": "0aadda95",
        "outputId": "6c5b35a5-ae93-4d17-e2be-d28d12e646c5"
      },
      "outputs": [
        {
          "name": "stdout",
          "output_type": "stream",
          "text": [
            "<class 'bool'> \n",
            " <class 'bool'> \n",
            " <class 'NoneType'>\n"
          ]
        }
      ],
      "source": [
        "a=True\n",
        "b=False\n",
        "c=None\n",
        "print(type(a),'\\n',type(b),'\\n',type(c))"
      ]
    },
    {
      "cell_type": "code",
      "execution_count": null,
      "id": "cc31dbf9",
      "metadata": {
        "id": "cc31dbf9",
        "outputId": "44fed26b-6256-4a2e-a669-d12521ad4e57"
      },
      "outputs": [
        {
          "name": "stdout",
          "output_type": "stream",
          "text": [
            "<class 'bool'> True\n"
          ]
        }
      ],
      "source": [
        "a=20\n",
        "b=16\n",
        "c=a>b\n",
        "print(type(c),c)"
      ]
    },
    {
      "cell_type": "code",
      "execution_count": null,
      "id": "5adade34",
      "metadata": {
        "id": "5adade34",
        "outputId": "2ad1ca75-2b99-49f8-9423-2ca8f6e6079e"
      },
      "outputs": [
        {
          "name": "stdout",
          "output_type": "stream",
          "text": [
            "learning \n",
            "python \n",
            "is \n",
            "very \n",
            "easy\n"
          ]
        }
      ],
      "source": [
        "x='''learning\n",
        "python\n",
        "is\n",
        "very\n",
        "easy'''\n",
        "print(x)"
      ]
    },
    {
      "cell_type": "code",
      "execution_count": null,
      "id": "0727de75",
      "metadata": {
        "id": "0727de75",
        "outputId": "9282f2c2-b47c-4ec7-f53a-6d2b1b770186"
      },
      "outputs": [
        {
          "name": "stdout",
          "output_type": "stream",
          "text": [
            "2 25 10\n"
          ]
        }
      ],
      "source": [
        "a=int(2.5)\n",
        "b=int(25.66)\n",
        "c=int('10')\n",
        "print(a,b,c)"
      ]
    },
    {
      "cell_type": "code",
      "execution_count": null,
      "id": "32b119ae",
      "metadata": {
        "id": "32b119ae",
        "outputId": "01d65e0e-1008-4272-c448-ef2064b6d38e"
      },
      "outputs": [
        {
          "name": "stdout",
          "output_type": "stream",
          "text": [
            "20.0 0.0 10.0\n"
          ]
        }
      ],
      "source": [
        "a=float(20)\n",
        "c=float(False)\n",
        "d=float('10')\n",
        "print(a,c,d)"
      ]
    },
    {
      "cell_type": "code",
      "execution_count": null,
      "id": "a1aa62c7",
      "metadata": {
        "id": "a1aa62c7",
        "outputId": "f9535bad-93ad-40b2-805d-61cc766e29bf"
      },
      "outputs": [
        {
          "name": "stdout",
          "output_type": "stream",
          "text": [
            "(10+0j) 1j (4+45j) (45+0j)\n"
          ]
        }
      ],
      "source": [
        "a=complex(10)\n",
        "b=complex(False,True)\n",
        "c=complex(4,45)\n",
        "d=complex('45')\n",
        "print(a,b,c,d)\n"
      ]
    },
    {
      "cell_type": "code",
      "execution_count": null,
      "id": "bf0b2a50",
      "metadata": {
        "scrolled": true,
        "id": "bf0b2a50",
        "outputId": "a3c2e66f-a856-4d3c-81ed-ff31f83d81f6"
      },
      "outputs": [
        {
          "name": "stdout",
          "output_type": "stream",
          "text": [
            "True False True False True False False\n"
          ]
        }
      ],
      "source": [
        "a=bool(-45)\n",
        "c=bool(45)\n",
        "b=bool(0.0)\n",
        "d=bool(None)\n",
        "e=bool('hi')\n",
        "f=bool(0+0j)\n",
        "g=bool(  0 )\n",
        "print(a,b,c,d,e,f,g)"
      ]
    },
    {
      "cell_type": "code",
      "execution_count": null,
      "id": "7d54f5d0",
      "metadata": {
        "id": "7d54f5d0",
        "outputId": "fc68ac2c-331b-4772-91a3-31ce0d356d50"
      },
      "outputs": [
        {
          "name": "stdout",
          "output_type": "stream",
          "text": [
            "0\n"
          ]
        }
      ],
      "source": [
        "a=chr(48)\n",
        "print(a)"
      ]
    },
    {
      "cell_type": "code",
      "execution_count": null,
      "id": "fb48b867",
      "metadata": {
        "id": "fb48b867",
        "outputId": "09442412-61d2-46d0-ea8b-43b7c87981c2"
      },
      "outputs": [
        {
          "name": "stdout",
          "output_type": "stream",
          "text": [
            "48\n"
          ]
        }
      ],
      "source": [
        "a=ord('0')\n",
        "print(a)"
      ]
    },
    {
      "cell_type": "code",
      "execution_count": null,
      "id": "e796ef28",
      "metadata": {
        "id": "e796ef28",
        "outputId": "0e6bba08-038d-4528-e1c7-ab28f1a0e10a"
      },
      "outputs": [
        {
          "name": "stdout",
          "output_type": "stream",
          "text": [
            "17.5\n"
          ]
        }
      ],
      "source": [
        "a=35\n",
        "b=2\n",
        "c=a/b\n",
        "print(c)"
      ]
    },
    {
      "cell_type": "code",
      "execution_count": null,
      "id": "3d11746a",
      "metadata": {
        "id": "3d11746a",
        "outputId": "06409843-6567-4a14-bfd1-100408197e8f"
      },
      "outputs": [
        {
          "name": "stdout",
          "output_type": "stream",
          "text": [
            "15\n"
          ]
        }
      ],
      "source": [
        "x=\"10\"\n",
        "y=int(x)+5\n",
        "print(y)"
      ]
    },
    {
      "cell_type": "code",
      "execution_count": null,
      "id": "66af9969",
      "metadata": {
        "id": "66af9969",
        "outputId": "856d6666-448e-4038-9b9b-25314a8a86d6"
      },
      "outputs": [
        {
          "name": "stdout",
          "output_type": "stream",
          "text": [
            "53\n"
          ]
        }
      ],
      "source": [
        "x= 48.6666\n",
        "y= int(x)+5\n",
        "print(y)"
      ]
    },
    {
      "cell_type": "code",
      "execution_count": null,
      "id": "5a9da093",
      "metadata": {
        "id": "5a9da093",
        "outputId": "be4e90ce-ab40-4187-affe-f7d35fc0ba4f"
      },
      "outputs": [
        {
          "name": "stdout",
          "output_type": "stream",
          "text": [
            "<class 'list'>\n"
          ]
        }
      ],
      "source": [
        "x=[45,2,'pi']\n",
        "print(type(x))"
      ]
    },
    {
      "cell_type": "code",
      "execution_count": null,
      "id": "2c49f260",
      "metadata": {
        "id": "2c49f260",
        "outputId": "14e4db58-e49e-49f9-8640-1aa0e9e83b47"
      },
      "outputs": [
        {
          "name": "stdout",
          "output_type": "stream",
          "text": [
            "<class 'tuple'>\n"
          ]
        }
      ],
      "source": [
        "x=(45,2,'pi')\n",
        "print(type(x))"
      ]
    },
    {
      "cell_type": "code",
      "execution_count": null,
      "id": "c55a3257",
      "metadata": {
        "id": "c55a3257",
        "outputId": "be9b4c2f-b041-4c7b-d14b-36c44b5ff2a9"
      },
      "outputs": [
        {
          "name": "stdout",
          "output_type": "stream",
          "text": [
            "<class 'range'>\n"
          ]
        }
      ],
      "source": [
        "z= range(10)\n",
        "print(type(z))"
      ]
    },
    {
      "cell_type": "code",
      "execution_count": null,
      "id": "516576a3",
      "metadata": {
        "id": "516576a3",
        "outputId": "d8892e23-eb1b-47d2-8d59-9996cda2d0ce"
      },
      "outputs": [
        {
          "name": "stdout",
          "output_type": "stream",
          "text": [
            "{'name': 'ahtisham', 'age': '19'}\n",
            "<class 'dict'>\n"
          ]
        }
      ],
      "source": [
        "x={\"name\":\"ahtisham\",\"age\":\"19\"}\n",
        "print(x)\n",
        "print(type(x))"
      ]
    },
    {
      "cell_type": "code",
      "execution_count": null,
      "id": "0dd6d8d8",
      "metadata": {
        "id": "0dd6d8d8",
        "outputId": "574b13bc-a36c-4664-f457-610d889ea878"
      },
      "outputs": [
        {
          "name": "stdout",
          "output_type": "stream",
          "text": [
            "<class 'set'> <class 'frozenset'>\n"
          ]
        }
      ],
      "source": [
        "x={6,7,5}\n",
        "y=frozenset([1,2,3])\n",
        "print(type(x),type(y))"
      ]
    },
    {
      "cell_type": "code",
      "execution_count": null,
      "id": "952d55fa",
      "metadata": {
        "id": "952d55fa",
        "outputId": "ca539f1b-351b-4e1c-ae36-d0e2facead49"
      },
      "outputs": [
        {
          "name": "stdout",
          "output_type": "stream",
          "text": [
            "18 12 45 5.0 5 3375 0\n"
          ]
        }
      ],
      "source": [
        "a=15\n",
        "b=3\n",
        "print(a+b,a-b,a*b,a/b,a//b,a**b,a%b)"
      ]
    },
    {
      "cell_type": "code",
      "execution_count": null,
      "id": "21a166fd",
      "metadata": {
        "id": "21a166fd",
        "outputId": "732e8208-41b7-4e13-c07a-1f645269f82c"
      },
      "outputs": [
        {
          "name": "stdout",
          "output_type": "stream",
          "text": [
            "False True False True False True\n"
          ]
        }
      ],
      "source": [
        "a=15\n",
        "b=30\n",
        "print(a==b,a!=b,a>b,a<b,a>=b,a<=b)"
      ]
    },
    {
      "cell_type": "code",
      "execution_count": null,
      "id": "c9bd24cf",
      "metadata": {
        "id": "c9bd24cf",
        "outputId": "d0081a4b-9db3-4985-e3e7-794eaee7d70f"
      },
      "outputs": [
        {
          "name": "stdout",
          "output_type": "stream",
          "text": [
            "False True True\n"
          ]
        }
      ],
      "source": [
        "a=True and False\n",
        "b=True or False\n",
        "c= not False\n",
        "print(a,b,c)"
      ]
    },
    {
      "cell_type": "code",
      "execution_count": null,
      "id": "90028283",
      "metadata": {
        "id": "90028283",
        "outputId": "7df92377-677e-486a-9f72-69accbf990a3"
      },
      "outputs": [
        {
          "name": "stdout",
          "output_type": "stream",
          "text": [
            "False\n",
            "True\n",
            "True\n",
            "False\n"
          ]
        }
      ],
      "source": [
        "a=5\n",
        "b=6\n",
        "c=3\n",
        "print((a>b)and(b!=a))\n",
        "print((a>b)or(b!=c))\n",
        "print(not(a>b))\n",
        "print((a>b)or(not(b)))"
      ]
    },
    {
      "cell_type": "code",
      "execution_count": null,
      "id": "6cefb554",
      "metadata": {
        "id": "6cefb554",
        "outputId": "326b6500-e285-46c1-cdd1-1ed4691d5805"
      },
      "outputs": [
        {
          "name": "stdout",
          "output_type": "stream",
          "text": [
            "1\n",
            "7\n",
            "6\n",
            "2\n",
            "40\n",
            "0\n",
            "-5\n"
          ]
        }
      ],
      "source": [
        "a=5\n",
        "b=3\n",
        "print(a&b)\n",
        "print(a|b)\n",
        "print(a^b)\n",
        "print(a-b)\n",
        "print(a<<b)\n",
        "print(a>>b)\n",
        "print(-a)"
      ]
    },
    {
      "cell_type": "code",
      "execution_count": null,
      "id": "3956da1d",
      "metadata": {
        "id": "3956da1d",
        "outputId": "c6614785-0adf-4fcb-ad88-0a4e72637b90"
      },
      "outputs": [
        {
          "name": "stdout",
          "output_type": "stream",
          "text": [
            "Enter a number: 4\n",
            "Divisible by 4\n"
          ]
        }
      ],
      "source": [
        "n = int(input(\"Enter a number: \"))\n",
        "print(\"Divisible by 4\" * ((n >> 2) << 2 == n))\n"
      ]
    },
    {
      "cell_type": "code",
      "execution_count": null,
      "id": "bd379fba",
      "metadata": {
        "id": "bd379fba",
        "outputId": "57119536-0a93-4206-8460-50a3e3cb6952"
      },
      "outputs": [
        {
          "name": "stdout",
          "output_type": "stream",
          "text": [
            "45\n"
          ]
        }
      ],
      "source": [
        "c=\"45\"\n",
        "print(c)"
      ]
    },
    {
      "cell_type": "code",
      "execution_count": null,
      "id": "951eea5d",
      "metadata": {
        "id": "951eea5d",
        "outputId": "37b1870d-c321-47d2-d379-f35ee2810a4b"
      },
      "outputs": [
        {
          "name": "stdout",
          "output_type": "stream",
          "text": [
            "11 2 12 1.0 125 1\n"
          ]
        }
      ],
      "source": [
        "x=8\n",
        "a=5\n",
        "b=4\n",
        "c=3\n",
        "d=5\n",
        "e=7\n",
        "x+=3\n",
        "a-=3\n",
        "b*=3\n",
        "c/=3\n",
        "d**=3\n",
        "e%=3\n",
        "print(x,a,b,c,d,e)"
      ]
    },
    {
      "cell_type": "code",
      "execution_count": null,
      "id": "edb6e824",
      "metadata": {
        "id": "edb6e824",
        "outputId": "dba111b9-20f2-4340-f808-d47682609a58"
      },
      "outputs": [
        {
          "name": "stdout",
          "output_type": "stream",
          "text": [
            "False\n",
            "True\n",
            "True\n",
            "1813125444928\n",
            "1813125444928\n"
          ]
        }
      ],
      "source": [
        "x=[1,2,3]\n",
        "y=[1,2,3]\n",
        "z=x\n",
        "print(x is y)\n",
        "print(x is z)\n",
        "print(x is not y)\n",
        "print(id(z))\n",
        "print(id(x))"
      ]
    },
    {
      "cell_type": "code",
      "execution_count": null,
      "id": "ca97cce4",
      "metadata": {
        "id": "ca97cce4",
        "outputId": "b493325a-8996-49d6-c704-745c3b72c9aa"
      },
      "outputs": [
        {
          "name": "stdout",
          "output_type": "stream",
          "text": [
            "True\n",
            "False\n",
            "True\n"
          ]
        }
      ],
      "source": [
        "print('a' in 'apple')\n",
        "print('b' in 'apple')\n",
        "print('s' not in 'apple')"
      ]
    },
    {
      "cell_type": "code",
      "execution_count": null,
      "id": "619abde5",
      "metadata": {
        "id": "619abde5",
        "outputId": "5649025d-c64a-4f1e-88b3-4a77cdbdef92"
      },
      "outputs": [
        {
          "name": "stdout",
          "output_type": "stream",
          "text": [
            "True\n",
            "False\n"
          ]
        }
      ],
      "source": [
        "fruits={'apple','banana','cherry'}\n",
        "print('apple' in fruits)\n",
        "print('banana' not in fruits)"
      ]
    },
    {
      "cell_type": "code",
      "execution_count": null,
      "id": "c8b5cc41",
      "metadata": {
        "id": "c8b5cc41",
        "outputId": "707f0f2d-a9c0-4a37-ecdf-0324b69eb9da"
      },
      "outputs": [
        {
          "name": "stdout",
          "output_type": "stream",
          "text": [
            "enter d145\n",
            "enter d245\n",
            "1012.5\n"
          ]
        }
      ],
      "source": [
        "diagonal1 = float(input(\"enter d1\"))\n",
        "diagonal2 = float(input(\"enter d2\"))\n",
        "area = (diagonal1 * diagonal2) / 2\n",
        "print(area)\n"
      ]
    },
    {
      "cell_type": "code",
      "execution_count": null,
      "id": "e25581d6",
      "metadata": {
        "id": "e25581d6",
        "outputId": "5d18307f-049a-4b4a-a112-08ccce51b157"
      },
      "outputs": [
        {
          "name": "stdout",
          "output_type": "stream",
          "text": [
            "45\n",
            "91125.0\n",
            "12150.0\n"
          ]
        }
      ],
      "source": [
        "side = float(input())\n",
        "volume = side ** 3\n",
        "surface_area = 6 * (side ** 2)\n",
        "print(volume)\n",
        "print(surface_area)\n"
      ]
    },
    {
      "cell_type": "code",
      "execution_count": null,
      "id": "1bcf5865",
      "metadata": {
        "id": "1bcf5865",
        "outputId": "6bcefa8f-7b88-46b1-eca9-740b3f3b0cab"
      },
      "outputs": [
        {
          "name": "stdout",
          "output_type": "stream",
          "text": [
            "10\n",
            "10\n",
            "10\n",
            "1000.0\n",
            "600.0\n"
          ]
        }
      ],
      "source": [
        "length = float(input())\n",
        "width = float(input())\n",
        "height = float(input())\n",
        "volume = length * width * height\n",
        "surface_area = 2 * (length * width + width * height + height * length)\n",
        "print(volume)\n",
        "print(surface_area)\n",
        "\n"
      ]
    },
    {
      "cell_type": "code",
      "execution_count": null,
      "id": "cb78313e",
      "metadata": {
        "id": "cb78313e",
        "outputId": "c2e6ff0a-8000-431e-d4c1-8f7993e4a9b0"
      },
      "outputs": [
        {
          "name": "stdout",
          "output_type": "stream",
          "text": [
            "4\n",
            "10\n",
            "502.6548245743669\n",
            "351.85837720205683\n"
          ]
        }
      ],
      "source": [
        "import math\n",
        "radius = float(input())\n",
        "height = float(input())\n",
        "volume = math.pi * (radius ** 2) * height\n",
        "surface_area = 2 * math.pi * radius * (radius + height)\n",
        "print(volume)\n",
        "print(surface_area)\n",
        "\n"
      ]
    },
    {
      "cell_type": "code",
      "execution_count": null,
      "id": "347d6c5e",
      "metadata": {
        "id": "347d6c5e",
        "outputId": "68d609f7-3b0b-4a71-ea6f-54d6b430ce35"
      },
      "outputs": [
        {
          "name": "stdout",
          "output_type": "stream",
          "text": [
            "4\n",
            "5\n",
            "7\n",
            "83.7758040957278\n",
            "138.23007675795088\n"
          ]
        }
      ],
      "source": [
        "import math\n",
        "radius = float(input())\n",
        "height = float(input())\n",
        "slant_height = float(input())\n",
        "volume = (1/3) * math.pi * (radius ** 2) * height\n",
        "surface_area = math.pi * radius * (radius + slant_height)\n",
        "print(volume)\n",
        "print(surface_area)\n"
      ]
    },
    {
      "cell_type": "code",
      "execution_count": null,
      "id": "9e328ef0",
      "metadata": {
        "id": "9e328ef0",
        "outputId": "1ba7811b-52d3-4fd7-9dbf-77489735c634"
      },
      "outputs": [
        {
          "name": "stdout",
          "output_type": "stream",
          "text": [
            "4\n",
            "268.082573106329\n",
            "201.06192982974676\n"
          ]
        }
      ],
      "source": [
        "import math\n",
        "radius = float(input())\n",
        "volume = (4/3) * math.pi * (radius ** 3)\n",
        "surface_area = 4 * math.pi * (radius ** 2)\n",
        "print(volume)\n",
        "print(surface_area)\n"
      ]
    },
    {
      "cell_type": "code",
      "execution_count": null,
      "id": "321fcb38",
      "metadata": {
        "id": "321fcb38",
        "outputId": "9663a6d0-6da3-4b07-d1ec-ee116e8ec058"
      },
      "outputs": [
        {
          "name": "stdout",
          "output_type": "stream",
          "text": [
            "45\n",
            "45\n",
            "10\n",
            "10\n",
            "10\n",
            "10\n",
            "282.7433388230814\n",
            "110.0\n",
            "30.0\n"
          ]
        }
      ],
      "source": [
        "import math\n",
        "circle_radius = float(input())\n",
        "rectangle_length = float(input())\n",
        "rectangle_width = float(input())\n",
        "triangle_side1 = float(input())\n",
        "triangle_side2 = float(input())\n",
        "triangle_side3 = float(input())\n",
        "circle_perimeter = 2 * math.pi * circle_radius\n",
        "rectangle_perimeter = 2 * (rectangle_length + rectangle_width)\n",
        "triangle_perimeter = triangle_side1 + triangle_side2 + triangle_side3\n",
        "print(circle_perimeter)\n",
        "print(rectangle_perimeter)\n",
        "print(triangle_perimeter)\n"
      ]
    },
    {
      "cell_type": "code",
      "execution_count": null,
      "id": "c62c0263",
      "metadata": {
        "id": "c62c0263",
        "outputId": "87d19214-61dc-4088-ade3-d790269ea5f9"
      },
      "outputs": [
        {
          "name": "stdout",
          "output_type": "stream",
          "text": [
            "10\n",
            "2\n",
            "3\n",
            "0.6\n"
          ]
        }
      ],
      "source": [
        "principle = float(input())\n",
        "rate = float(input())\n",
        "time = float(input())\n",
        "simple_interest = (principle * rate * time) / 100\n",
        "print(simple_interest)\n"
      ]
    },
    {
      "cell_type": "code",
      "execution_count": null,
      "id": "b7ef0f1c",
      "metadata": {
        "id": "b7ef0f1c",
        "outputId": "4c567dbc-48ee-44c5-b053-c879e8c0957a"
      },
      "outputs": [
        {
          "name": "stdout",
          "output_type": "stream",
          "text": [
            "173\n",
            "78.33333333333333\n"
          ]
        }
      ],
      "source": [
        "fahrenheit = float(input())\n",
        "celsius = (fahrenheit - 32) * 5 / 9\n",
        "print(celsius)\n"
      ]
    },
    {
      "cell_type": "code",
      "execution_count": null,
      "id": "d213922f",
      "metadata": {
        "id": "d213922f",
        "outputId": "c4cde1ca-a613-4e79-8ba6-c1b6f63b34b7"
      },
      "outputs": [
        {
          "name": "stdout",
          "output_type": "stream",
          "text": [
            "4\n",
            "5\n",
            "5.0\n",
            "4.0\n"
          ]
        }
      ],
      "source": [
        "a = float(input())\n",
        "b = float(input())\n",
        "a, b = b, a\n",
        "print(a)\n",
        "print(b)\n"
      ]
    },
    {
      "cell_type": "code",
      "execution_count": null,
      "id": "8dc930e2",
      "metadata": {
        "id": "8dc930e2",
        "outputId": "bc817eb2-b28e-4f79-ca97-e711a8e7ed46"
      },
      "outputs": [
        {
          "name": "stdout",
          "output_type": "stream",
          "text": [
            "4\n",
            "5\n",
            "5.0\n",
            "4.0\n"
          ]
        }
      ],
      "source": [
        "a = float(input())\n",
        "b = float(input())\n",
        "a = a + b\n",
        "b = a - b\n",
        "a = a - b\n",
        "print(a)\n",
        "print(b)\n"
      ]
    },
    {
      "cell_type": "code",
      "execution_count": null,
      "id": "a997e766",
      "metadata": {
        "id": "a997e766",
        "outputId": "44f856ff-cef5-4e0d-9b7a-5a241d68accd"
      },
      "outputs": [
        {
          "name": "stdout",
          "output_type": "stream",
          "text": [
            "4\n",
            "5\n",
            "5.0\n",
            "4.0\n"
          ]
        }
      ],
      "source": [
        "a = float(input())\n",
        "b = float(input())\n",
        "a = a + b\n",
        "b = a - b\n",
        "a = a - b\n",
        "print(a)\n",
        "print(b)\n"
      ]
    },
    {
      "cell_type": "code",
      "execution_count": null,
      "id": "b08d32de",
      "metadata": {
        "id": "b08d32de",
        "outputId": "c224ec24-e6cc-42e0-9b5b-273e2e407470"
      },
      "outputs": [
        {
          "name": "stdout",
          "output_type": "stream",
          "text": [
            "enter a: 54\n",
            "enter b: 454\n",
            "454.0\n",
            "54.0\n"
          ]
        }
      ],
      "source": [
        "a= float(input(\"enter a: \"))\n",
        "b= float(input(\"enter b: \"))\n",
        "a= a+ b\n",
        "b=a-b\n",
        "a=a-b\n",
        "print(a)\n",
        "print(b)"
      ]
    },
    {
      "cell_type": "code",
      "execution_count": null,
      "id": "93a503c4",
      "metadata": {
        "id": "93a503c4",
        "outputId": "f785324d-12dd-4bd5-85f0-7695dffd0ba2"
      },
      "outputs": [
        {
          "name": "stdout",
          "output_type": "stream",
          "text": [
            "enter a no. :  4\n",
            "multiply by 4 \n",
            " 16\n"
          ]
        }
      ],
      "source": [
        " n=int(input(\"enter a no. :  \"))\n",
        "print(\"multiply by 4\" ,'\\n',(n<<2))\n"
      ]
    },
    {
      "cell_type": "code",
      "execution_count": null,
      "id": "97369898",
      "metadata": {
        "id": "97369898",
        "outputId": "212e82fa-7d2c-431d-ec3e-02dc1133defd"
      },
      "outputs": [
        {
          "name": "stdout",
          "output_type": "stream",
          "text": [
            "4\n",
            "16\n"
          ]
        }
      ],
      "source": [
        "n=int(input())\n",
        "print(n<<2)"
      ]
    },
    {
      "cell_type": "code",
      "execution_count": null,
      "id": "e814211e",
      "metadata": {
        "id": "e814211e",
        "outputId": "18be0cdf-a522-422f-f73a-5bf25c80b1db"
      },
      "outputs": [
        {
          "name": "stdout",
          "output_type": "stream",
          "text": [
            "e\n"
          ]
        }
      ],
      "source": [
        "str1=\"computer\"\n",
        "print(str1[-2])"
      ]
    },
    {
      "cell_type": "code",
      "execution_count": null,
      "id": "7518da88",
      "metadata": {
        "id": "7518da88",
        "outputId": "58b7a1d9-cba5-48d9-ee64-e315fe8b11ab"
      },
      "outputs": [
        {
          "name": "stdout",
          "output_type": "stream",
          "text": [
            "Python\n",
            "Python\n",
            "Python Programming\n"
          ]
        }
      ],
      "source": [
        "n=\"Python Programming\"\n",
        "print(n[0:6])\n",
        "print(n[:6])\n",
        "print(n[:20])\n"
      ]
    },
    {
      "cell_type": "code",
      "execution_count": null,
      "id": "80caa282",
      "metadata": {
        "id": "80caa282",
        "outputId": "eb53f972-b6d0-4cfa-eff3-335c00ec0d85"
      },
      "outputs": [
        {
          "name": "stdout",
          "output_type": "stream",
          "text": [
            "enter your name : Ahtisham ali\n",
            "enter your age : 19\n",
            "my name is Ahtisham ali and  i am 19 years old \n"
          ]
        }
      ],
      "source": [
        "name=input(\"enter your name : \")\n",
        "age=int(input(\"enter your age : \"))\n",
        "print(\"my name is {} and  i am {} years old \".format(name,age))"
      ]
    },
    {
      "cell_type": "code",
      "execution_count": null,
      "id": "ebd6dec8",
      "metadata": {
        "id": "ebd6dec8",
        "outputId": "b128d3f3-2f96-4271-e44b-c4abc41b3f6a"
      },
      "outputs": [
        {
          "name": "stdout",
          "output_type": "stream",
          "text": [
            "Enter your name: AHTISHAM ALI\n",
            "Enter your age: 19\n",
            "My name is AHTISHAM ALI and I am 19 years old\n"
          ]
        }
      ],
      "source": [
        "name = input(\"Enter your name: \")\n",
        "age = int(input(\"Enter your age: \"))\n",
        "print(\"My name is %s and I am %d years old\" % (name, age))\n"
      ]
    },
    {
      "cell_type": "code",
      "execution_count": null,
      "id": "48993a82",
      "metadata": {
        "id": "48993a82",
        "outputId": "e5abfc51-c8c0-47ad-d9eb-d5124f3282fa"
      },
      "outputs": [
        {
          "name": "stdout",
          "output_type": "stream",
          "text": [
            "True\n",
            "True\n"
          ]
        }
      ],
      "source": [
        "n=\"Ahtisham Ali\"\n",
        "print(\"Ali\" in n)\n",
        "print(\"khan\" not in n)"
      ]
    },
    {
      "cell_type": "code",
      "execution_count": null,
      "id": "f3a2ab3d",
      "metadata": {
        "id": "f3a2ab3d",
        "outputId": "46631589-477e-4ab7-f4a3-0c2abfe0d7ed"
      },
      "outputs": [
        {
          "name": "stdout",
          "output_type": "stream",
          "text": [
            "the integer no. is:123\n",
            "the integer no. is:123.000000\n",
            "the integer no. is:123.00000000000000000000000\n",
            "the integer no. is:123.00000000000000000000000000000000000000000000000000000000000000000000000000000000000\n",
            "the binary is:10111\n",
            "the hexadecimal is:7b\n",
            "the octal is:27\n",
            "the decimal is:+23\n",
            "the decimal is:23\n",
            "the decimal is:   23\n"
          ]
        }
      ],
      "source": [
        "print(\"the integer no. is:{}\".format(123))\n",
        "print(\"the integer no. is:{:f}\".format(123))\n",
        "print(\"the integer no. is:{:8.23f}\".format(123))\n",
        "print(\"the integer no. is:{:.083f}\".format(123))\n",
        "print(\"the binary is:{:0b}\".format(23))\n",
        "print(\"the hexadecimal is:{0:x}\".format(123))\n",
        "print(\"the octal is:{:0o}\".format(23))\n",
        "print(\"the decimal is:{:+d}\".format(23))\n",
        "print(\"the decimal is:{:-d}\".format(23))\n",
        "print(\"the decimal is:{:>5d}\".format(23))\n"
      ]
    },
    {
      "cell_type": "code",
      "execution_count": null,
      "id": "ebe5dd43",
      "metadata": {
        "id": "ebe5dd43",
        "outputId": "509fe1b1-df94-47a4-aab6-c13367c96354"
      },
      "outputs": [
        {
          "name": "stdout",
          "output_type": "stream",
          "text": [
            " hello world \n",
            " HELLO WORLD \n",
            "Hello World\n",
            "['Hello', 'World']\n",
            "Hello _ World\n",
            " ahtisham ka World \n",
            "True\n",
            "True\n"
          ]
        }
      ],
      "source": [
        "n= \" Hello World \"\n",
        "print(n.lower())\n",
        "print(n.upper())\n",
        "print(n.strip())\n",
        "words=n.split()\n",
        "print(words)\n",
        "joined=\" _ \".join(words)\n",
        "print(joined)\n",
        "print(n.replace(\"Hello\",\"ahtisham ka\"))\n",
        "print(n.startswith(\" Hello\"))\n",
        "print(n.endswith(\" World \"))\n"
      ]
    },
    {
      "cell_type": "code",
      "execution_count": null,
      "id": "4099ed72",
      "metadata": {
        "id": "4099ed72",
        "outputId": "2a74feac-dc63-4cfe-f2ef-4c052551737a"
      },
      "outputs": [
        {
          "name": "stdout",
          "output_type": "stream",
          "text": [
            "4\n"
          ]
        }
      ],
      "source": [
        "\n",
        "x='python'\n",
        "y='java'\n",
        "print(len(y))"
      ]
    },
    {
      "cell_type": "code",
      "execution_count": null,
      "id": "fa720012",
      "metadata": {
        "id": "fa720012",
        "outputId": "26bcad96-9cc9-49b2-9fa6-8aabbfc24e16"
      },
      "outputs": [
        {
          "name": "stdout",
          "output_type": "stream",
          "text": [
            "5\n"
          ]
        }
      ],
      "source": [
        "t='ki BtechAIstudents koi'\n",
        "print(t.find('e',4,15))\n"
      ]
    },
    {
      "cell_type": "code",
      "execution_count": null,
      "id": "d9e98d15",
      "metadata": {
        "id": "d9e98d15",
        "outputId": "567abce2-7536-4e61-e10a-5b425f251e22"
      },
      "outputs": [
        {
          "name": "stdout",
          "output_type": "stream",
          "text": [
            "0\n",
            "2\n"
          ]
        }
      ],
      "source": [
        "t='motihari'\n",
        "print(t.index('m'))\n",
        "print(t.count('i'))"
      ]
    },
    {
      "cell_type": "code",
      "execution_count": null,
      "id": "0ac26f2a",
      "metadata": {
        "id": "0ac26f2a",
        "outputId": "5a7c4b3a-c8b0-42ad-a3a3-c66b6d566086"
      },
      "outputs": [
        {
          "name": "stdout",
          "output_type": "stream",
          "text": [
            "[]\n"
          ]
        }
      ],
      "source": [
        "l1=[]\n",
        "print(l1)"
      ]
    },
    {
      "cell_type": "code",
      "execution_count": null,
      "id": "43f15030",
      "metadata": {
        "id": "43f15030",
        "outputId": "4851450f-0a26-478a-ccf1-b79b9c66f648"
      },
      "outputs": [
        {
          "name": "stdout",
          "output_type": "stream",
          "text": [
            "a\n"
          ]
        }
      ],
      "source": [
        "l2=[2,34,'u']\n",
        "l2[2]='a'\n",
        "print(l2[2])"
      ]
    },
    {
      "cell_type": "code",
      "execution_count": null,
      "id": "e3dde60b",
      "metadata": {
        "id": "e3dde60b",
        "outputId": "e4fe1aed-4ee0-4c16-9fa2-ca8dec3876c5"
      },
      "outputs": [
        {
          "name": "stdout",
          "output_type": "stream",
          "text": [
            "u\n"
          ]
        }
      ],
      "source": [
        "t1=(2,35,'u')\n",
        "print(t1[2])"
      ]
    },
    {
      "cell_type": "code",
      "execution_count": null,
      "id": "5301e15a",
      "metadata": {
        "id": "5301e15a",
        "outputId": "c054516e-beb9-469e-d9c2-932e2aeff0ad"
      },
      "outputs": [
        {
          "name": "stdout",
          "output_type": "stream",
          "text": [
            "<class 'tuple'>\n"
          ]
        }
      ],
      "source": [
        "t1=(4,)\n",
        "print(type(t1))"
      ]
    },
    {
      "cell_type": "code",
      "execution_count": null,
      "id": "aca848b7",
      "metadata": {
        "id": "aca848b7",
        "outputId": "cbd14aca-ae8f-46ff-b4dd-71377014bd87"
      },
      "outputs": [
        {
          "name": "stdout",
          "output_type": "stream",
          "text": [
            "[1, 2, 3, 4]\n",
            "[5, 2, 3, 4]\n"
          ]
        }
      ],
      "source": [
        "t1=(1,2,3,4)\n",
        "l1=list(t1)\n",
        "print(l1)\n",
        "l1[0]=5\n",
        "print(l1)"
      ]
    },
    {
      "cell_type": "code",
      "execution_count": null,
      "id": "ef383b87",
      "metadata": {
        "id": "ef383b87",
        "outputId": "17fd9683-2ffd-480b-da30-11469eb528a9"
      },
      "outputs": [
        {
          "name": "stdout",
          "output_type": "stream",
          "text": [
            "{1, 2, 3, 5}\n",
            "<class 'set'>\n",
            "{2}\n"
          ]
        }
      ],
      "source": [
        "s1={2,3,2,1,5}\n",
        "print(s1)\n",
        "print(type(s1))\n",
        "s2={2}\n",
        "s1=s2\n",
        "print(s2)"
      ]
    },
    {
      "cell_type": "code",
      "execution_count": null,
      "id": "5aeaa443",
      "metadata": {
        "id": "5aeaa443",
        "outputId": "0ae3f073-bbe4-4ff4-a400-4952f9bbee6f"
      },
      "outputs": [
        {
          "name": "stdout",
          "output_type": "stream",
          "text": [
            "<class 'set'>\n"
          ]
        }
      ],
      "source": [
        "d1=set()\n",
        "print(type(d1))"
      ]
    },
    {
      "cell_type": "code",
      "execution_count": null,
      "id": "dd3ec7fa",
      "metadata": {
        "id": "dd3ec7fa",
        "outputId": "9a88b077-bcfb-48d1-a22f-f13a75e63249"
      },
      "outputs": [
        {
          "name": "stdout",
          "output_type": "stream",
          "text": [
            "['john', 'doe']\n"
          ]
        }
      ],
      "source": [
        "name=\"john doe\"\n",
        "a=name.split()\n",
        "print(a)"
      ]
    },
    {
      "cell_type": "code",
      "execution_count": null,
      "id": "801af5d5",
      "metadata": {
        "id": "801af5d5",
        "outputId": "7a735b67-4bc5-4810-89f6-3a6fc37c4cc7"
      },
      "outputs": [
        {
          "name": "stdout",
          "output_type": "stream",
          "text": [
            "fun!ispython\n"
          ]
        }
      ],
      "source": [
        "sentence=\"python is fun!\"\n",
        "words=sentence.split()\n",
        "reversed_sentence=''.join(reversed(words))\n",
        "print(reversed_sentence)"
      ]
    },
    {
      "cell_type": "code",
      "execution_count": null,
      "id": "facf80da",
      "metadata": {
        "id": "facf80da",
        "outputId": "142464d7-6c5f-4faf-9665-9e92a8a78cbc"
      },
      "outputs": [
        {
          "name": "stdout",
          "output_type": "stream",
          "text": [
            "True\n"
          ]
        }
      ],
      "source": [
        "t1=\"madam\"\n",
        "t2=t1[::-1]\n",
        "print(t1==t2)"
      ]
    },
    {
      "cell_type": "code",
      "execution_count": null,
      "id": "f97b396b",
      "metadata": {
        "id": "f97b396b",
        "outputId": "d903fc4b-d3f9-4d48-bdfe-82638a9df0aa"
      },
      "outputs": [
        {
          "name": "stdout",
          "output_type": "stream",
          "text": [
            "no:0\n",
            "pagal hai aap!!\n",
            "aur doctor ke pass jaye!!\n"
          ]
        }
      ],
      "source": [
        "x=float(input(\"no:\"))\n",
        "if x==0:\n",
        "    print(\"pagal hai aap!!\")\n",
        "    print(\"aur doctor ke pass jaye!!\")\n",
        "elif x==x+3:\n",
        "    print(\"sahi\")\n",
        "else:\n",
        "    print(\"wrong input\")"
      ]
    },
    {
      "cell_type": "code",
      "execution_count": null,
      "id": "3d94ab46",
      "metadata": {
        "id": "3d94ab46",
        "outputId": "aee310de-877a-4b6d-a535-030e53cb1e2b"
      },
      "outputs": [
        {
          "name": "stdout",
          "output_type": "stream",
          "text": [
            "1st no: 12\n",
            "2nd no: 24\n",
            "b is greater than a\n"
          ]
        }
      ],
      "source": [
        "a=float(input(\"1st no: \"))\n",
        "b=float(input(\"2nd no: \"))\n",
        "if a>b:\n",
        "    print(\"a is greater than b\")\n",
        "elif a<b:\n",
        "    print(\"b is greater than a\")\n",
        "else:\n",
        "    print(\"a=b\")"
      ]
    },
    {
      "cell_type": "code",
      "execution_count": null,
      "id": "84c2355b",
      "metadata": {
        "id": "84c2355b",
        "outputId": "b942a4cb-9e43-4dff-8ab2-fd348155f4c5"
      },
      "outputs": [
        {
          "name": "stdout",
          "output_type": "stream",
          "text": [
            "Enter your age: 15\n",
            "You are not eligible for vote.\n"
          ]
        }
      ],
      "source": [
        "age=int(input(\"Enter your age: \"))\n",
        "if age>=18:\n",
        "    print(\"Yes!! you are eligible for vote.\")\n",
        "elif age<18:\n",
        "    print(\"You are not eligible for vote.\")\n"
      ]
    },
    {
      "cell_type": "code",
      "execution_count": null,
      "id": "541a01c1",
      "metadata": {
        "id": "541a01c1",
        "outputId": "18c4b899-767a-4f7c-f951-4979c4141197"
      },
      "outputs": [
        {
          "name": "stdout",
          "output_type": "stream",
          "text": [
            "enter your number -5\n",
            "your absolute value is  5\n"
          ]
        }
      ],
      "source": [
        "\n",
        "x=int(input(\"enter your number \"))\n",
        "if (x<0):\n",
        "    print(\"your absolute value is \",x*(-1))"
      ]
    },
    {
      "cell_type": "code",
      "execution_count": null,
      "id": "0c43fb47",
      "metadata": {
        "id": "0c43fb47",
        "outputId": "78f9421c-e5a0-4abd-f6e4-489cba8ddfa5"
      },
      "outputs": [
        {
          "name": "stdout",
          "output_type": "stream",
          "text": [
            "enter your number -4\n",
            "4\n",
            "your absolute value is: +4\n"
          ]
        }
      ],
      "source": [
        "x=int(input(\"enter your number \"))\n",
        "if (x<0):\n",
        "    n1=(abs(x))\n",
        "    print(n1)\n",
        "print(\"your absolute value is: {:+d}\".format(n1))\n"
      ]
    },
    {
      "cell_type": "code",
      "execution_count": null,
      "id": "3a036187",
      "metadata": {
        "id": "3a036187",
        "outputId": "1d034ccc-8353-4e8b-b7a0-28f6e974a036"
      },
      "outputs": [
        {
          "name": "stdout",
          "output_type": "stream",
          "text": [
            "enter number: 4\n",
            "4 is even\n"
          ]
        }
      ],
      "source": [
        "n=int(input(\"enter number: \"))\n",
        "if n%2==0:\n",
        "    print(\"{} is even\".format(n))\n",
        "else:\n",
        "    print(\"{} is odd\".format(n))\n"
      ]
    },
    {
      "cell_type": "code",
      "execution_count": null,
      "id": "ae5ff17e",
      "metadata": {
        "id": "ae5ff17e",
        "outputId": "b16a7965-cfb3-4f29-cf6c-8d736d929f39"
      },
      "outputs": [
        {
          "name": "stdout",
          "output_type": "stream",
          "text": [
            "enter number: 4\n",
            "4 is positive number\n"
          ]
        }
      ],
      "source": [
        "n=int(input(\"enter number: \"))\n",
        "if n>0:\n",
        "    print(\"{} is positive number\".format(n))\n",
        "else:\n",
        "    print(\"{} is negative or zero\".format(n))"
      ]
    },
    {
      "cell_type": "code",
      "execution_count": null,
      "id": "74f4c802",
      "metadata": {
        "id": "74f4c802",
        "outputId": "992822f5-8d51-40c0-de4d-f3a87abf6f0b"
      },
      "outputs": [
        {
          "name": "stdout",
          "output_type": "stream",
          "text": [
            "enter number: 4\n",
            "enter number: 7\n",
            "7 is greater than 4 \n"
          ]
        }
      ],
      "source": [
        "a=int(input(\"enter number: \"))\n",
        "b=int(input(\"enter number: \"))\n",
        "if a>b:\n",
        "    print(\"{}  is greater than {} \".format(a,b))\n",
        "else:\n",
        "    print(\"{} is greater than {} \".format(b,a))"
      ]
    },
    {
      "cell_type": "code",
      "execution_count": null,
      "id": "227d9fe2",
      "metadata": {
        "id": "227d9fe2",
        "outputId": "4d962662-b86a-4420-a0b1-774c3403c0f6"
      },
      "outputs": [
        {
          "name": "stdout",
          "output_type": "stream",
          "text": [
            "enter number: 4\n",
            "enter number: 5\n",
            "4\n"
          ]
        }
      ],
      "source": [
        "a=int(input(\"enter number: \"))\n",
        "b=int(input(\"enter number: \"))\n",
        "print(a if a<b else b)"
      ]
    },
    {
      "cell_type": "code",
      "execution_count": null,
      "id": "0b9b159d",
      "metadata": {
        "id": "0b9b159d",
        "outputId": "6059c6ef-f006-4d28-a24b-0509ba221fa8"
      },
      "outputs": [
        {
          "name": "stdout",
          "output_type": "stream",
          "text": [
            "enter your age: 45\n",
            "enter your weight: 55\n",
            "you are eligible to donate the blood😊\n"
          ]
        }
      ],
      "source": [
        "a=int(input(\"enter your age: \"))\n",
        "if a>=18:\n",
        "    w=int(input(\"enter your weight: \"))\n",
        "    if w>=50:\n",
        "        print(\"you are eligible to donate the blood😊\")\n",
        "    else:\n",
        "        print(\"you are underweight😢\")\n",
        "else:\n",
        "    print(\"you are underage😢\")"
      ]
    },
    {
      "cell_type": "code",
      "execution_count": null,
      "id": "7260b1d3",
      "metadata": {
        "id": "7260b1d3",
        "outputId": "21de016c-68fb-4d05-da8b-4bf61fa89a9b"
      },
      "outputs": [
        {
          "name": "stdout",
          "output_type": "stream",
          "text": [
            "enter number a: 45\n",
            "enter number b: 54\n",
            "enter number c: 74\n",
            "b is greater than a\n",
            "c is greater than a\n",
            "c is greater than b\n"
          ]
        }
      ],
      "source": [
        "a=int(input(\"enter number a: \"))\n",
        "b=int(input(\"enter number b: \"))\n",
        "c=int(input(\"enter number c: \"))\n",
        "if a>b:\n",
        "    print(\"a is greater than b\")\n",
        "    if a>c:\n",
        "        print(\"a is greater than c and b\")\n",
        "    else:\n",
        "        print(\"c is greater\")\n",
        "if b>a:\n",
        "    print(\"b is greater than a\")\n",
        "    if b>c:\n",
        "        print(\"b is greater than c and a\")\n",
        "if c>a:\n",
        "    print(\"c is greater than a\")\n",
        "    if c>b:\n",
        "        print(\"c is greater than b\")\n",
        "\n",
        "\n"
      ]
    },
    {
      "cell_type": "code",
      "execution_count": null,
      "id": "bd8c5a58",
      "metadata": {
        "id": "bd8c5a58",
        "outputId": "cd648746-40a7-4340-d9a5-7a5075eae71c"
      },
      "outputs": [
        {
          "name": "stdout",
          "output_type": "stream",
          "text": [
            "enter number a: 4\n",
            "enter number b: 5\n",
            "enter number c: 7\n",
            "7 is greater\n"
          ]
        }
      ],
      "source": [
        "a=int(input(\"enter number a: \"))\n",
        "b=int(input(\"enter number b: \"))\n",
        "c=int(input(\"enter number c: \"))\n",
        "if a>b:\n",
        "    if a>c:\n",
        "        print(\"a is greater than c and b\")\n",
        "    else:\n",
        "        print(\"c is greatest\")\n",
        "if b>c:\n",
        "    print(\"%d is greater \"%(b))\n",
        "else:\n",
        "    print(f\"{c} is greater\")"
      ]
    },
    {
      "cell_type": "code",
      "execution_count": null,
      "id": "9f54e302",
      "metadata": {
        "id": "9f54e302",
        "outputId": "d7771a79-4c75-4b0e-bdd9-3fe32416f4a5"
      },
      "outputs": [
        {
          "name": "stdout",
          "output_type": "stream",
          "text": [
            "enter your marks : 4\n",
            "FAIL\n"
          ]
        }
      ],
      "source": [
        "m=float(input(\"enter your marks : \"))\n",
        "if m>=90:\n",
        "    print(\"Grade A+\")\n",
        "elif 80<m<90:\n",
        "    print(\"Grade A\")\n",
        "elif 70<m<80:\n",
        "    print(\"Grade B\")\n",
        "elif 60<m<70:\n",
        "    print(\"Grade c\")\n",
        "elif 33<m<60:\n",
        "    print(\"Grade D\")\n",
        "else:\n",
        "    print(\"FAIL\")\n"
      ]
    },
    {
      "cell_type": "code",
      "execution_count": null,
      "id": "24ebd661",
      "metadata": {
        "id": "24ebd661",
        "outputId": "5e2d200e-b4b2-4ce7-b92b-b7fe63cbadb3"
      },
      "outputs": [
        {
          "name": "stdout",
          "output_type": "stream",
          "text": [
            "Enter a character: i\n",
            "Vowel\n"
          ]
        }
      ],
      "source": [
        "char = input(\"Enter a character: \")\n",
        "char = char.lower()\n",
        "if char == 'a':\n",
        "    print(\"Vowel\")\n",
        "elif char == 'e':\n",
        "    print(\"Vowel\")\n",
        "elif char == 'i':\n",
        "    print(\"Vowel\")\n",
        "elif char == 'o':\n",
        "    print(\"Vowel\")\n",
        "elif char == 'u':\n",
        "    print(\"Vowel\")\n",
        "else:\n",
        "    print(\"Not a vowel\")\n"
      ]
    },
    {
      "cell_type": "code",
      "execution_count": null,
      "id": "38ef7b2a",
      "metadata": {
        "id": "38ef7b2a",
        "outputId": "c24752e5-1f0c-40d6-afdd-1b4765f846a3"
      },
      "outputs": [
        {
          "name": "stdout",
          "output_type": "stream",
          "text": [
            "1\n",
            "2\n",
            "3\n",
            "4\n",
            "5\n"
          ]
        }
      ],
      "source": [
        "count=1\n",
        "while count <=5:\n",
        "    print(count)\n",
        "    count +=1"
      ]
    },
    {
      "cell_type": "code",
      "execution_count": null,
      "id": "5c2d9a17",
      "metadata": {
        "id": "5c2d9a17",
        "outputId": "eedb191a-7f1f-4891-d1ff-2c37eb7b605c"
      },
      "outputs": [
        {
          "name": "stdout",
          "output_type": "stream",
          "text": [
            "10\n",
            "9\n",
            "8\n",
            "7\n",
            "6\n",
            "5\n",
            "4\n",
            "3\n",
            "2\n",
            "1\n"
          ]
        }
      ],
      "source": [
        "count=10\n",
        "while count>=1:\n",
        "    print(count)\n",
        "    count-=1"
      ]
    },
    {
      "cell_type": "code",
      "execution_count": null,
      "id": "039761e9",
      "metadata": {
        "id": "039761e9",
        "outputId": "02c52c17-0ccb-4688-f325-9ef0b4407266"
      },
      "outputs": [
        {
          "name": "stdout",
          "output_type": "stream",
          "text": [
            "10\n",
            "9\n",
            "8\n",
            "7\n",
            "6\n",
            "5\n",
            "4\n",
            "3\n",
            "2\n",
            "1\n"
          ]
        }
      ],
      "source": [
        "n=10\n",
        "while n>0:\n",
        "    print(n)\n",
        "    n-=1"
      ]
    },
    {
      "cell_type": "code",
      "execution_count": null,
      "id": "f93f77b8",
      "metadata": {
        "id": "f93f77b8",
        "outputId": "d1bc8be4-4112-464a-80ed-19dca64f4830"
      },
      "outputs": [
        {
          "name": "stdout",
          "output_type": "stream",
          "text": [
            "enter any string: Ahtisham Ali\n",
            "A  h  t  i  s  h  a  m     A  l  i  "
          ]
        }
      ],
      "source": [
        "n=input(\"enter any string: \")\n",
        "i=0\n",
        "while i<len(n):\n",
        "    print(n[i],end=\"  \")\n",
        "    i+=1\n",
        "\n"
      ]
    },
    {
      "cell_type": "code",
      "execution_count": null,
      "id": "f0a76195",
      "metadata": {
        "id": "f0a76195",
        "outputId": "7b4a99c6-051a-4bc2-9b14-a435f4afab10"
      },
      "outputs": [
        {
          "name": "stdout",
          "output_type": "stream",
          "text": [
            "1\n",
            "3\n",
            "5\n",
            "7\n",
            "9\n",
            "11\n",
            "13\n",
            "15\n",
            "17\n",
            "19\n"
          ]
        }
      ],
      "source": [
        "i=1\n",
        "while(i<=20):\n",
        "    if(i%2!=0):\n",
        "        print(i)\n",
        "    i+=1"
      ]
    },
    {
      "cell_type": "code",
      "execution_count": null,
      "id": "9423fbb0",
      "metadata": {
        "id": "9423fbb0",
        "outputId": "f73f5d98-9f2a-488f-c575-595bb2561079"
      },
      "outputs": [
        {
          "name": "stdout",
          "output_type": "stream",
          "text": [
            "enter any string: thank you\n"
          ]
        }
      ],
      "source": [
        "n=input(\"enter any string: \")\n",
        "while n!=\"thank you\"not in n:\n",
        "    n=input(\"enter any string: \")\n",
        "    print(n)\n"
      ]
    },
    {
      "cell_type": "code",
      "execution_count": null,
      "id": "b3082d23",
      "metadata": {
        "id": "b3082d23",
        "outputId": "e2e6b15c-9757-410e-9160-bfd346a3f741"
      },
      "outputs": [
        {
          "name": "stdout",
          "output_type": "stream",
          "text": [
            "1\n",
            "2\n",
            "3\n",
            "4\n",
            "5\n",
            "6\n",
            "7\n",
            "8\n",
            "9\n",
            "10\n"
          ]
        }
      ],
      "source": [
        "for i in range(1,11):\n",
        "    print(i)"
      ]
    },
    {
      "cell_type": "code",
      "execution_count": null,
      "id": "10915270",
      "metadata": {
        "id": "10915270",
        "outputId": "b207b001-bc2e-4fc3-b967-9cd5136b37a1"
      },
      "outputs": [
        {
          "name": "stdout",
          "output_type": "stream",
          "text": [
            "7.0\n",
            "7.2\n",
            "15.6\n",
            "18.2\n"
          ]
        }
      ],
      "source": [
        "l1=(3.5,3.6,7.8,9.1)\n",
        "for i in l1:\n",
        "    print(i*2)"
      ]
    },
    {
      "cell_type": "code",
      "execution_count": null,
      "id": "7650f574",
      "metadata": {
        "id": "7650f574",
        "outputId": "bd703099-55d7-40aa-d1d3-dd2ef43b4412"
      },
      "outputs": [
        {
          "name": "stdout",
          "output_type": "stream",
          "text": [
            "city1\n",
            "city2\n",
            "city3\n"
          ]
        }
      ],
      "source": [
        "d1={'city1':'mumbai','city2':'lucknow','city3':'delhi'}\n",
        "for i in d1:\n",
        "    print(i)"
      ]
    },
    {
      "cell_type": "code",
      "execution_count": null,
      "id": "de323e7f",
      "metadata": {
        "id": "de323e7f",
        "outputId": "bc674a20-b338-4d52-8750-3773e7126954"
      },
      "outputs": [
        {
          "name": "stdout",
          "output_type": "stream",
          "text": [
            "python\n",
            "is\n",
            "fun\n"
          ]
        }
      ],
      "source": [
        "s1=\"python is fun\"\n",
        "for i in s1.split():\n",
        "    print(i)"
      ]
    },
    {
      "cell_type": "code",
      "execution_count": null,
      "id": "c26d515d",
      "metadata": {
        "id": "c26d515d",
        "outputId": "4b09bfdf-0929-463d-a771-4593aa5a3afb"
      },
      "outputs": [
        {
          "name": "stdout",
          "output_type": "stream",
          "text": [
            "enter your number: 5\n",
            "the factorial of 5 is 120\n"
          ]
        }
      ],
      "source": [
        "num=int(input(\"enter your number: \"))\n",
        "if num>0:\n",
        "    fact=1\n",
        "    for i in range(1,num+1):\n",
        "        fact=fact*i\n",
        "    print(\"the factorial of {} is {}\".format(num,fact))\n",
        "else:\n",
        "    if num==0:\n",
        "        print(\"the factorial is\",1)\n",
        "    if num<0:\n",
        "        print(\"the factorial is neagtive can't define\")"
      ]
    },
    {
      "cell_type": "code",
      "execution_count": null,
      "id": "2a99383b",
      "metadata": {
        "id": "2a99383b",
        "outputId": "27be1035-46a4-4955-f53b-966f4ea17bef"
      },
      "outputs": [
        {
          "name": "stdout",
          "output_type": "stream",
          "text": [
            "Enter your number: 5\n",
            "120\n"
          ]
        }
      ],
      "source": [
        "num = int(input(\"Enter your number: \"))\n",
        "if num > 0:\n",
        "    fact = 1\n",
        "    i = 1\n",
        "    while i <= num:\n",
        "        fact = fact * i\n",
        "        i+=1\n",
        "    print(fact)\n",
        "\n"
      ]
    },
    {
      "cell_type": "code",
      "execution_count": null,
      "id": "242b7798",
      "metadata": {
        "id": "242b7798",
        "outputId": "9fe14c05-e368-4d05-b384-54a95779f664"
      },
      "outputs": [
        {
          "name": "stdout",
          "output_type": "stream",
          "text": [
            "Enter your number: 5\n",
            "5  is prime number\n"
          ]
        }
      ],
      "source": [
        "num = int(input(\"Enter your number: \"))\n",
        "if num>1:\n",
        "    for i in range(2,(num//2)+1):\n",
        "        if num%i==0:\n",
        "            print(num,\"is not prime number\")\n",
        "        else:\n",
        "            print(num,\" is prime number\")\n",
        "\n",
        "            break\n",
        "\n"
      ]
    },
    {
      "cell_type": "code",
      "execution_count": null,
      "id": "32cd840d",
      "metadata": {
        "id": "32cd840d",
        "outputId": "0a3b6bd6-8f20-4c33-cbac-3d0e13633cfc"
      },
      "outputs": [
        {
          "name": "stdout",
          "output_type": "stream",
          "text": [
            "Enter the number of terms: 5\n",
            "0 1 1 2 3 "
          ]
        }
      ],
      "source": [
        "n = int(input(\"Enter the number of terms: \"))\n",
        "a, b = 0, 1\n",
        "for i in range(0,n):\n",
        "    print(a, end=\" \")\n",
        "    a, b = b, a + b\n"
      ]
    },
    {
      "cell_type": "markdown",
      "id": "b0ff7ae2",
      "metadata": {
        "id": "b0ff7ae2"
      },
      "source": [
        "for i in range(2,int(num/2)+1):\n",
        "    if i%2==0:\n",
        "        break\n",
        "print(i)\n"
      ]
    },
    {
      "cell_type": "code",
      "execution_count": null,
      "id": "3b70f58d",
      "metadata": {
        "id": "3b70f58d",
        "outputId": "30e0c83e-5817-4cd2-c3aa-4c6f88b2bbf1"
      },
      "outputs": [
        {
          "name": "stdout",
          "output_type": "stream",
          "text": [
            "2\n",
            "3\n",
            "5\n",
            "7\n",
            "11\n",
            "13\n",
            "17\n",
            "19\n",
            "23\n",
            "29\n",
            "31\n",
            "37\n",
            "41\n",
            "43\n",
            "47\n"
          ]
        }
      ],
      "source": [
        "for num in range(2, 51):\n",
        "    prime = True\n",
        "    for i in range(2, int(num / 2) + 1):\n",
        "        if num % i == 0:\n",
        "             prime = False\n",
        "            break\n",
        "    if prime:\n",
        "        print(num)\n"
      ]
    },
    {
      "cell_type": "code",
      "execution_count": null,
      "id": "bbafa91c",
      "metadata": {
        "id": "bbafa91c",
        "outputId": "fa8067df-65e0-4295-cef7-bd4f4fc6abda"
      },
      "outputs": [
        {
          "name": "stdout",
          "output_type": "stream",
          "text": [
            "enter your number: 5\n",
            "5 is a prime number\n"
          ]
        }
      ],
      "source": [
        "num=int(input(\"enter your number: \"))\n",
        "for i in range(2,int(num/2)+1):\n",
        "    if num%i==0:\n",
        "        print(\"%d is not a prime number\"%num)\n",
        "        break\n",
        "else:\n",
        "    print(\"%d is a prime number\"%num)"
      ]
    },
    {
      "cell_type": "code",
      "execution_count": null,
      "id": "ceff0e11",
      "metadata": {
        "id": "ceff0e11",
        "outputId": "22083b54-8670-498c-fe2b-d9b4aa816039"
      },
      "outputs": [
        {
          "name": "stdout",
          "output_type": "stream",
          "text": [
            "2\n",
            "3\n",
            "5\n",
            "7\n"
          ]
        }
      ],
      "source": [
        "for x in range(2,10):\n",
        "    for i in range(2,int(x/2)+1):\n",
        "        if x%i==0:\n",
        "            break\n",
        "    else:\n",
        "        print(x)"
      ]
    },
    {
      "cell_type": "code",
      "execution_count": null,
      "id": "9d350981",
      "metadata": {
        "id": "9d350981",
        "outputId": "cddef058-dbc7-4ef6-e821-3e1dd9efeb6e"
      },
      "outputs": [
        {
          "name": "stdout",
          "output_type": "stream",
          "text": [
            "      * \n",
            "     * * \n",
            "    * * * \n",
            "   * * * * \n",
            "  * * * * * \n",
            " * * * * * * \n",
            " * * * * * * \n",
            "  * * * * * \n",
            "   * * * * \n",
            "    * * * \n",
            "     * * \n",
            "      * \n"
          ]
        }
      ],
      "source": [
        "for i in range(6):\n",
        "    print(\" \" * (6 - i) + \"* \" * (i + 1))\n",
        "\n",
        "for i in range(5, -1, -1):\n",
        "    print(\" \" * (6 - i) + \"* \" * (i + 1))\n"
      ]
    },
    {
      "cell_type": "code",
      "execution_count": null,
      "id": "b885d51d",
      "metadata": {
        "id": "b885d51d",
        "outputId": "d029eeb3-dd9c-41cf-ec0c-a6be53fd5c41"
      },
      "outputs": [
        {
          "name": "stdout",
          "output_type": "stream",
          "text": [
            "enter rows number 11\n",
            "*\n",
            "**\n",
            "***\n",
            "****\n",
            "*****\n",
            "******\n",
            "*******\n",
            "********\n",
            "*********\n",
            "**********\n",
            "***********\n"
          ]
        }
      ],
      "source": [
        "n = int(input(\"enter rows number \"))\n",
        "for i in range(1, n+1):\n",
        "    print('*' * i)\n"
      ]
    },
    {
      "cell_type": "code",
      "execution_count": null,
      "id": "7ac865c4",
      "metadata": {
        "scrolled": false,
        "id": "7ac865c4",
        "outputId": "9addebbf-5f90-4acd-a094-c577122365af"
      },
      "outputs": [
        {
          "name": "stdout",
          "output_type": "stream",
          "text": [
            "\n",
            "* \n",
            "* * \n",
            "* * * \n",
            "* * * * \n",
            "* * * * * \n",
            "* * * * * * \n",
            "* * * * * * * \n",
            "* * * * * * * * \n",
            "* * * * * * * * * \n",
            "* * * * * * * * * * \n"
          ]
        }
      ],
      "source": [
        "for i in range(0,n):\n",
        "    for j in range(0,i):\n",
        "        print(\"*\",end=\" \")\n",
        "    print()"
      ]
    },
    {
      "cell_type": "code",
      "execution_count": null,
      "id": "f9059ac9",
      "metadata": {
        "id": "f9059ac9",
        "outputId": "6a133b20-cb13-4635-ea88-76a4aa00b6d1"
      },
      "outputs": [
        {
          "name": "stdout",
          "output_type": "stream",
          "text": [
            "\n",
            " *\n",
            " * *\n",
            " * * *\n",
            " * * * *\n",
            " * * * * *\n",
            " * * * * * *\n",
            " * * * * * * *\n",
            " * * * * * * * *\n",
            " * * * * * * * * *\n"
          ]
        }
      ],
      "source": [
        "n=10\n",
        "for i in range(0,n):\n",
        "    for j in range(0,i):\n",
        "        print(\" \",end=\"*\")\n",
        "    print()"
      ]
    },
    {
      "cell_type": "code",
      "execution_count": null,
      "id": "6322adf1",
      "metadata": {
        "id": "6322adf1",
        "outputId": "fcc04237-9264-4b33-d0dc-15ab3dff62d9"
      },
      "outputs": [
        {
          "name": "stdout",
          "output_type": "stream",
          "text": [
            "* * * * \n",
            "* * * \n",
            "* * \n",
            "* \n",
            "\n",
            "\n",
            "* \n",
            "* * \n",
            "* * * \n",
            "* * * * \n"
          ]
        }
      ],
      "source": [
        "n=5\n",
        "for i in range(0,n):\n",
        "    for j in range(0,n-i-1):\n",
        "        print(\"*\",end=\" \")\n",
        "    print()\n",
        "for i in range(0,n):\n",
        "    for j in range(0,i):\n",
        "        print(\"*\",end=\" \")\n",
        "    print()"
      ]
    },
    {
      "cell_type": "code",
      "execution_count": null,
      "id": "e64672fe",
      "metadata": {
        "id": "e64672fe",
        "outputId": "0b9dfbef-dbae-40ab-d1c7-92f4a460ac4e"
      },
      "outputs": [
        {
          "name": "stdout",
          "output_type": "stream",
          "text": [
            "        * \n",
            "      * * * \n",
            "    * * * * * \n",
            "  * * * * * * * \n",
            "* * * * * * * * * \n"
          ]
        }
      ],
      "source": [
        "n=5\n",
        "for i in range(0,n):\n",
        "    for j in range(0,n-i-1):\n",
        "        print(\" \",end=\" \")\n",
        "\n",
        "    for j in range(0,2*i+1):\n",
        "        print(\"*\",end=\" \")\n",
        "    print()"
      ]
    },
    {
      "cell_type": "code",
      "execution_count": null,
      "id": "acd0bf4e",
      "metadata": {
        "id": "acd0bf4e",
        "outputId": "11bb2876-9d03-4d49-b221-3115e9e180f4"
      },
      "outputs": [
        {
          "name": "stdout",
          "output_type": "stream",
          "text": [
            "***\n",
            "***\n",
            "***\n",
            "***\n",
            "***\n"
          ]
        }
      ],
      "source": [
        "for x in range(0,5):\n",
        "    for y in range(0,3):\n",
        "        print(\"*\",end=\"\")\n",
        "    print()"
      ]
    },
    {
      "cell_type": "code",
      "execution_count": null,
      "id": "0610e916",
      "metadata": {
        "id": "0610e916"
      },
      "outputs": [],
      "source": [
        "i = 0                # i ko 0 se shuru kiya\n",
        "while i < 5:         # jab tak i 5 se chhota hai, loop chalega\n",
        "    j = 0            # har baar naya j banate hain, j ki value 0 se shuru hoti hai\n",
        "    while j < i + 1: # jab tak j ki value i + 1 se chhoti hai, loop chalega\n",
        "        print(j + 1, end=\"\") # j ko 1 se add karke print karte hain (j+1 kyunke python me 0 se count hota hai)\n",
        "        j = j + 1         # j ki value badhate hain\n",
        "    i = i + 1             # i ko badhate hain\n",
        "    print()               # ek new line print karte hain\n"
      ]
    },
    {
      "cell_type": "code",
      "execution_count": null,
      "id": "b70c9025",
      "metadata": {
        "id": "b70c9025",
        "outputId": "3766f5e2-f494-4d30-a6ad-9fffd617cbd1"
      },
      "outputs": [
        {
          "name": "stdout",
          "output_type": "stream",
          "text": [
            "***\n",
            "***\n",
            "***\n",
            "***\n",
            "***\n"
          ]
        }
      ],
      "source": [
        "x=0\n",
        "while x<5:\n",
        "    j=0\n",
        "    while(j<3):\n",
        "        print(\"*\",end=\"\")\n",
        "        j=j+1\n",
        "    x=x+1\n",
        "    print()"
      ]
    },
    {
      "cell_type": "code",
      "execution_count": null,
      "id": "13e28b69",
      "metadata": {
        "id": "13e28b69",
        "outputId": "4f02337e-ae1a-48c5-d087-f7a2336013b0"
      },
      "outputs": [
        {
          "name": "stdout",
          "output_type": "stream",
          "text": [
            "1 \n",
            "2 2 \n",
            "3 3 3 \n",
            "4 4 4 4 \n",
            "5 5 5 5 5 \n",
            "6 6 6 6 6 6 \n"
          ]
        }
      ],
      "source": [
        "n=6\n",
        "for x in range(0,n):\n",
        "    for y in range(0,x+1):\n",
        "        print(x+1,end=' ')\n",
        "    print()"
      ]
    },
    {
      "cell_type": "code",
      "execution_count": null,
      "id": "e71ca860",
      "metadata": {
        "id": "e71ca860",
        "outputId": "884e4e5b-6917-4a5a-e488-ea82b5347acb"
      },
      "outputs": [
        {
          "name": "stdout",
          "output_type": "stream",
          "text": [
            "Apna string daalein: eye\n",
            "Yeh string palindrome hai.\n"
          ]
        }
      ],
      "source": [
        "# User se input le rahe hain\n",
        "string = input(\"Apna string daalein: \")\n",
        "\n",
        "# String ko reverse karne ke liye ek empty string banate hain\n",
        "reverse_string = \"\"\n",
        "\n",
        "# Loop ke through string ko reverse karte hain\n",
        "for char in string:\n",
        "    reverse_string = char + reverse_string  # har character ko reverse string ke shuru mein daal rahe hain\n",
        "\n",
        "# Agar original string aur reverse string same hain to palindrome hai\n",
        "if string == reverse_string:\n",
        "    print(\"Yeh string palindrome hai.\")\n",
        "else:\n",
        "    print(\"Yeh string palindrome nahi hai.\")\n"
      ]
    },
    {
      "cell_type": "code",
      "execution_count": null,
      "id": "3ab5a317",
      "metadata": {
        "id": "3ab5a317",
        "outputId": "9e9b4908-e430-4337-ddea-a7be088262f7"
      },
      "outputs": [
        {
          "name": "stdout",
          "output_type": "stream",
          "text": [
            "1\n",
            "12\n",
            "123\n",
            "1234\n",
            "12345\n"
          ]
        }
      ],
      "source": [
        "i=0\n",
        "while i<5:\n",
        "    j=0\n",
        "    while j<i+1:\n",
        "        print(j+1,end=\"\")\n",
        "        j=j+1\n",
        "    i=i+1\n",
        "    print()"
      ]
    },
    {
      "cell_type": "code",
      "execution_count": null,
      "id": "1a0e4172",
      "metadata": {
        "id": "1a0e4172",
        "outputId": "d3a8f804-e808-4500-f45b-591f3f1a2bd0"
      },
      "outputs": [
        {
          "name": "stdout",
          "output_type": "stream",
          "text": [
            "enter the digit: 343\n",
            "the sum of digit is 10\n"
          ]
        }
      ],
      "source": [
        "num=int(input(\"enter the digit: \"))\n",
        "sum=0\n",
        "while(num!=0):\n",
        "    r=num%10\n",
        "    num=num//10\n",
        "    sum=sum+r\n",
        "print(\"the sum of digit is\",sum)"
      ]
    },
    {
      "cell_type": "code",
      "execution_count": null,
      "id": "35953a2f",
      "metadata": {
        "id": "35953a2f",
        "outputId": "ae3628a7-db3f-4fcc-a374-1546c5fdd831"
      },
      "outputs": [
        {
          "name": "stdout",
          "output_type": "stream",
          "text": [
            "Enter any word: python\n",
            "npython python\n"
          ]
        }
      ],
      "source": [
        "string=input(\"Enter any word: \")\n",
        "t=string\n",
        "reverse=\"\"\n",
        "for char in string:\n",
        "    reverse = char + string\n",
        "print(reverse,string)"
      ]
    },
    {
      "cell_type": "code",
      "execution_count": null,
      "id": "9191d99d",
      "metadata": {
        "id": "9191d99d",
        "outputId": "46fb03d5-8719-4c46-c264-e4d2705ad661"
      },
      "outputs": [
        {
          "name": "stdout",
          "output_type": "stream",
          "text": [
            "454\n",
            "number is palindrome\n"
          ]
        }
      ],
      "source": [
        "num=int(input())\n",
        "t=num\n",
        "rev=0\n",
        "while num!=0:\n",
        "    r=num%10\n",
        "    num=num//10\n",
        "    rev=rev*10+r\n",
        "if rev==t:\n",
        "    print(\"number is palindrome\")\n",
        "else:\n",
        "    print(\"number is not palindrome\")"
      ]
    },
    {
      "cell_type": "code",
      "execution_count": null,
      "id": "e4b680de",
      "metadata": {
        "id": "e4b680de",
        "outputId": "08c865fd-c7ad-4e4e-bf90-4fc65846413f"
      },
      "outputs": [
        {
          "name": "stdout",
          "output_type": "stream",
          "text": [
            "enter any number: 2\n",
            "2\n",
            "4\n",
            "6\n",
            "8\n",
            "10\n",
            "12\n",
            "14\n",
            "16\n",
            "18\n",
            "20\n"
          ]
        }
      ],
      "source": [
        "num=int(input(\"enter any number: \"))\n",
        "for j in range(1,11):\n",
        "    b=num*j\n",
        "    print(b)\n",
        "\n"
      ]
    },
    {
      "cell_type": "code",
      "execution_count": null,
      "id": "d03e9d19",
      "metadata": {
        "id": "d03e9d19",
        "outputId": "8d23f64f-4599-4bc1-c863-d5f6a6bbb9b4"
      },
      "outputs": [
        {
          "name": "stdout",
          "output_type": "stream",
          "text": [
            "5\n"
          ]
        }
      ],
      "source": [
        "i=int(input())\n",
        "while i<5:\n",
        "    pass\n",
        "    print(i)"
      ]
    },
    {
      "cell_type": "code",
      "execution_count": null,
      "id": "13f9f5bb",
      "metadata": {
        "id": "13f9f5bb",
        "outputId": "d4b428f0-6fa2-4f67-fe67-1fc2ec5a0d84"
      },
      "outputs": [
        {
          "name": "stdout",
          "output_type": "stream",
          "text": [
            "enter number 1: 45\n",
            "enter number 2: 55\n",
            "the sum of num 1 & num 2 is  100\n"
          ]
        }
      ],
      "source": [
        "\n",
        "def findsum(a,b):\n",
        "    result = a+b\n",
        "    return result\n",
        "\n",
        "x=int(input(\"enter number 1: \"))\n",
        "y=int(input(\"enter number 2: \"))\n",
        "z=findsum(x,y)\n",
        "print(\"the sum of num 1 & num 2 is \",z)\n"
      ]
    },
    {
      "cell_type": "code",
      "execution_count": null,
      "id": "7da325db",
      "metadata": {
        "id": "7da325db",
        "outputId": "f616e0ba-00e2-4cc1-a88c-fb5bbdda28f4"
      },
      "outputs": [
        {
          "name": "stdout",
          "output_type": "stream",
          "text": [
            "  ❤️❤️  ❤️❤️  \n",
            "❤️    ❤️    ❤️\n",
            "❤️          ❤️\n",
            "  ❤️      ❤️  \n",
            "    ❤️  ❤️    \n",
            "      ❤️      \n"
          ]
        }
      ],
      "source": [
        "for i in range(6):\n",
        "    for j in range(7):\n",
        "        if (i == 0 and j % 3 != 0) or (i == 1 and j % 3 == 0) or (i - j == 2) or (i + j == 8):\n",
        "            print(\"❤️\", end=\"\")\n",
        "        else:\n",
        "            print(\"  \", end=\"\")\n",
        "    print()\n"
      ]
    },
    {
      "cell_type": "code",
      "execution_count": null,
      "id": "d49079e1",
      "metadata": {
        "id": "d49079e1",
        "outputId": "07894336-152e-4b4c-f9a9-b47c9b5d0742"
      },
      "outputs": [
        {
          "name": "stdout",
          "output_type": "stream",
          "text": [
            "enter number 1: 45\n",
            "enter number 2: 54\n",
            "result 99\n",
            "the sum of num 1 & num 2 is  None\n"
          ]
        }
      ],
      "source": [
        "\n",
        "def findsum(a,b):\n",
        "    result = a+b\n",
        "    print(\"result\",result)\n",
        "\n",
        "x=int(input(\"enter number 1: \"))\n",
        "y=int(input(\"enter number 2: \"))\n",
        "z=findsum(x,y)\n",
        "print(\"the sum of num 1 & num 2 is \",z)\n"
      ]
    },
    {
      "cell_type": "code",
      "execution_count": null,
      "id": "5d2e0c38",
      "metadata": {
        "id": "5d2e0c38",
        "outputId": "0bececad-05e5-4460-cc81-86d11efea6be"
      },
      "outputs": [
        {
          "name": "stdout",
          "output_type": "stream",
          "text": [
            "75 33 1134 2.5714285714285716\n"
          ]
        }
      ],
      "source": [
        "def arithmetic(num1,num2):\n",
        "    add=num1+num2\n",
        "    sub=num1-num2\n",
        "    multiply=num1*num2\n",
        "    div=num1/num2\n",
        "    return add,sub,multiply,div\n",
        "a,b,c,d =arithmetic(54,21)\n",
        "print(a,b,c,d)"
      ]
    },
    {
      "cell_type": "code",
      "execution_count": null,
      "id": "57fc1d6e",
      "metadata": {
        "id": "57fc1d6e",
        "outputId": "690e68e3-a9c1-43f6-b320-8a9441da0ba7"
      },
      "outputs": [
        {
          "name": "stdout",
          "output_type": "stream",
          "text": [
            "enter any poistive integer 5\n",
            "120\n"
          ]
        }
      ],
      "source": [
        "def fact(n):\n",
        "    f=1\n",
        "    for i in range(1,n+1):\n",
        "        f=f*i\n",
        "    return f\n",
        "x=int(input(\"enter any poistive integer \"))\n",
        "print(fact(x))"
      ]
    },
    {
      "cell_type": "code",
      "execution_count": null,
      "id": "322d5827",
      "metadata": {
        "id": "322d5827",
        "outputId": "c3735115-2b42-4e44-9da2-573c3cb176b6"
      },
      "outputs": [
        {
          "name": "stdout",
          "output_type": "stream",
          "text": [
            "3 2 4 8\n",
            "10 20 30 40\n",
            "20 50 4 10\n"
          ]
        },
        {
          "ename": "TypeError",
          "evalue": "f() got an unexpected keyword argument 'arg'",
          "output_type": "error",
          "traceback": [
            "\u001b[1;31m---------------------------------------------------------------------------\u001b[0m",
            "\u001b[1;31mTypeError\u001b[0m                                 Traceback (most recent call last)",
            "Cell \u001b[1;32mIn[6], line 6\u001b[0m\n\u001b[0;32m      4\u001b[0m f(\u001b[38;5;241m10\u001b[39m,\u001b[38;5;241m20\u001b[39m,\u001b[38;5;241m30\u001b[39m,\u001b[38;5;241m40\u001b[39m)\n\u001b[0;32m      5\u001b[0m f(\u001b[38;5;241m20\u001b[39m,\u001b[38;5;241m50\u001b[39m,arg4\u001b[38;5;241m=\u001b[39m\u001b[38;5;241m10\u001b[39m)\n\u001b[1;32m----> 6\u001b[0m f(arg4\u001b[38;5;241m=\u001b[39m\u001b[38;5;241m2\u001b[39m,arg1\u001b[38;5;241m=\u001b[39m\u001b[38;5;241m3\u001b[39m,arg\u001b[38;5;241m=\u001b[39m\u001b[38;5;241m2\u001b[39m)\n",
            "\u001b[1;31mTypeError\u001b[0m: f() got an unexpected keyword argument 'arg'"
          ]
        }
      ],
      "source": [
        "def f(arg1,arg2,arg3=4,arg4=8):\n",
        "    print(arg1,arg2,arg3,arg4)\n",
        "f(3,2)\n",
        "f(10,20,30,40)\n",
        "f(20,50,arg4=10)\n",
        "f(arg4=2,arg1=3,arg=2)"
      ]
    },
    {
      "cell_type": "code",
      "execution_count": null,
      "id": "e011cd83",
      "metadata": {
        "id": "e011cd83",
        "outputId": "ae6c1907-4c40-4ad6-85a7-1514e9502d53"
      },
      "outputs": [
        {
          "name": "stdout",
          "output_type": "stream",
          "text": [
            "My name is Ahtisham and the last name is Ali\n"
          ]
        }
      ],
      "source": [
        "def function(fname,lname):\n",
        "    print(f\"My name is {fname} and the last name is {lname}\")\n",
        "function(\"Ahtisham\",\"Ali\")\n"
      ]
    },
    {
      "cell_type": "code",
      "execution_count": null,
      "id": "9614a787",
      "metadata": {
        "id": "9614a787",
        "outputId": "f2c94aba-4311-48d9-b144-05ce04ac4a53"
      },
      "outputs": [
        {
          "name": "stdout",
          "output_type": "stream",
          "text": [
            "My name is ahtisham and the last name is ali\n"
          ]
        }
      ],
      "source": [
        "def function(fname=\"ahtisham\",lname=\"ali\"):\n",
        "    print(f\"My name is {fname} and the last name is {lname}\" )\n",
        "function(\"ahtisham\",\"ali\")\n"
      ]
    },
    {
      "cell_type": "code",
      "execution_count": null,
      "id": "a5cd0738",
      "metadata": {
        "id": "a5cd0738",
        "outputId": "f172b3a3-5127-4d95-bc19-ba8046208ab1"
      },
      "outputs": [
        {
          "name": "stdout",
          "output_type": "stream",
          "text": [
            "21\n"
          ]
        }
      ],
      "source": [
        "\n",
        "x=20             #Global\n",
        "def sample():\n",
        "\n",
        "    global x\n",
        "\n",
        "    x=x+1      #local\n",
        "    print(x)\n",
        "\n",
        "\n",
        "sample()           #local\n",
        "\n",
        "    #Global"
      ]
    },
    {
      "cell_type": "code",
      "execution_count": null,
      "id": "f10c3ec4",
      "metadata": {
        "id": "f10c3ec4",
        "outputId": "8ea8999f-3fea-42a8-807b-3e3f614fd527"
      },
      "outputs": [
        {
          "name": "stdout",
          "output_type": "stream",
          "text": [
            "16\n"
          ]
        }
      ],
      "source": [
        "x=25        #Global\n",
        "def f1():\n",
        "    y=15    #Local to f1()\n",
        "    def f2():\n",
        "        nonlocal y   #local to f2()\n",
        "        y=y+1\n",
        "        print(y)\n",
        "    f2()\n",
        "f1()"
      ]
    },
    {
      "cell_type": "code",
      "execution_count": null,
      "id": "4ec9b32b",
      "metadata": {
        "id": "4ec9b32b"
      },
      "outputs": [],
      "source": [
        "import turtle\n",
        "import time\n",
        "turtle.pensize(2)\n",
        "turtle.color(\"silver\")\n",
        "turtle.pencolor(\"black\")\n",
        "turtle.begin_fill()\n",
        "#turtle.speed(-2)\n",
        "turtle.seth(-120)\n",
        "turtle.forward(60)\n",
        "turtle.left(90)\n",
        "turtle.forward(120)\n",
        "turtle.left(90)\n",
        "turtle.forward(60)\n",
        "turtle.left(90)\n",
        "turtle.forward(120)\n",
        "turtle.left(45)\n",
        "turtle.forward(10)\n",
        "turtle.left(45)\n",
        "turtle.forward(55)\n",
        "turtle.left(45)\n",
        "turtle.forward(10)\n",
        "turtle.left(45)\n",
        "turtle.forward(120)\n",
        "turtle.left(45)\n",
        "turtle.forward(10)\n",
        "turtle.left(45)\n",
        "turtle.forward(55)\n",
        "#turtle.hideturtle()\n",
        "turtle.left(45)\n",
        "turtle.forward(10)\n",
        "turtle.backward(10)\n",
        "turtle.right(45)\n",
        "turtle.backward(55)\n",
        "turtle.right(45)\n",
        "turtle.backward(10)\n",
        "turtle.left(30)\n",
        "turtle.backward(30)\n",
        "turtle.left(105)\n",
        "turtle.forward(105)\n",
        "turtle.right(75)\n",
        "turtle.forward(30)\n",
        "turtle.left(35)\n",
        "turtle.forward(10)\n",
        "turtle.left(145)\n",
        "turtle.forward(34)\n",
        "turtle.left(45)\n",
        "turtle.forward(8)\n",
        "turtle.left(30)\n",
        "turtle.forward(103)\n",
        "turtle.left(30)\n",
        "turtle.forward(10)\n",
        "turtle.left(45)\n",
        "#turtle.hideturtle()\n",
        "turtle.forward(34)\n",
        "turtle.backward(34)\n",
        "turtle.left(135)\n",
        "turtle.forward(10)\n",
        "turtle.right(30)\n",
        "turtle.forward(40)\n",
        "turtle.right(90)\n",
        "turtle.forward(20)\n",
        "turtle.backward(180)\n",
        "turtle.left(90)\n",
        "turtle.forward(15)\n",
        "turtle.right(90)\n",
        "turtle.forward(180)\n",
        "turtle.hideturtle()\n",
        "turtle.end_fill()\n",
        "time.sleep(50)"
      ]
    },
    {
      "cell_type": "code",
      "execution_count": null,
      "id": "a710e897",
      "metadata": {
        "scrolled": true,
        "id": "a710e897",
        "outputId": "4044f62d-0b32-427c-bb28-36b55d961ece"
      },
      "outputs": [
        {
          "name": "stdout",
          "output_type": "stream",
          "text": [
            "Nawab Shah Ahtisham Ali Ghazi Miya!!!!\n"
          ]
        }
      ],
      "source": [
        "print(\"Nawab Shah Ahtisham Ali Ghazi Miya!!!!\")"
      ]
    },
    {
      "cell_type": "code",
      "execution_count": null,
      "id": "7fa79c53",
      "metadata": {
        "id": "7fa79c53",
        "outputId": "943227f5-2e89-4384-b6db-8a0469df196c"
      },
      "outputs": [
        {
          "name": "stdout",
          "output_type": "stream",
          "text": [
            "16\n"
          ]
        }
      ],
      "source": [
        "y=30       #Global\n",
        "x=25        #Global\n",
        "def f1():\n",
        "    y=15    #Local to f1()\n",
        "    def f2():\n",
        "        nonlocal y   #local to f2()\n",
        "        y=y+1\n",
        "        print(y)\n",
        "    f2()\n",
        "f1()\n"
      ]
    },
    {
      "cell_type": "code",
      "execution_count": null,
      "id": "669f1490",
      "metadata": {
        "id": "669f1490",
        "outputId": "51a2d8a6-d266-4aa7-bbe4-565e5d74a390"
      },
      "outputs": [
        {
          "name": "stdout",
          "output_type": "stream",
          "text": [
            "enter any number: 5\n",
            "The factorial of 5 is 120\n"
          ]
        }
      ],
      "source": [
        "def fact(num):\n",
        "    if num==0:\n",
        "        return 1\n",
        "    else:\n",
        "        return num* fact(num-1)\n",
        "fact(5)\n",
        "n= int(input(\"enter any number: \"))\n",
        "f=fact(n)\n",
        "print(f\"The factorial of {n} is {f}\")"
      ]
    },
    {
      "cell_type": "code",
      "execution_count": null,
      "id": "39b94566",
      "metadata": {
        "id": "39b94566",
        "outputId": "7269f3f3-9e1e-4c34-ed47-d578cb7dc020"
      },
      "outputs": [
        {
          "name": "stdout",
          "output_type": "stream",
          "text": [
            "Enter the number of terms in the Fibonacci series: 5\n",
            "0 1 1 2 3 "
          ]
        }
      ],
      "source": [
        "#write  a python program to genrate fibonacci series using recursion\n",
        "def fib(n):\n",
        "    if n <= 0:\n",
        "        return 0\n",
        "    elif n == 1:\n",
        "        return 1\n",
        "    else:\n",
        "        return fib(n - 1) + fib(n - 2)\n",
        "\n",
        "def fibseries(n):\n",
        "    for i in range(n):\n",
        "        print(fib(i), end=\" \")\n",
        "\n",
        "num = int(input(\"E\n",
        "                nter the number of terms in the Fibonacci series: \"))\n",
        "fibseries(num)\n"
      ]
    },
    {
      "cell_type": "code",
      "execution_count": null,
      "id": "b69a9a45",
      "metadata": {
        "id": "b69a9a45",
        "outputId": "1e2670ed-49a7-4633-f4c3-650ec63aa43d"
      },
      "outputs": [
        {
          "name": "stdout",
          "output_type": "stream",
          "text": [
            "enter any number: 4\n",
            "The square of 4 is 16\n"
          ]
        }
      ],
      "source": [
        "#write a program a square a number using lamba function.\n",
        "s=lambda n: n**2\n",
        "num=int(input(\"enter any number: \"))\n",
        "print(f\"The square of {num} is {s(num)}\")\n"
      ]
    },
    {
      "cell_type": "code",
      "execution_count": null,
      "id": "124a9c57",
      "metadata": {
        "id": "124a9c57",
        "outputId": "4a6102f7-f918-4626-a01f-ea74a7beb688"
      },
      "outputs": [
        {
          "name": "stdout",
          "output_type": "stream",
          "text": [
            "enter number: 4\n",
            "enter number: 5\n",
            "The sum of 4 and 5 is 9\n"
          ]
        }
      ],
      "source": [
        "n= lambda a,b: a+b\n",
        "x=int(input(\"enter number: \"))\n",
        "y=int(input(\"enter number: \"))\n",
        "print(f\"The sum of {x} and {y} is {n(x,y)}\")"
      ]
    },
    {
      "cell_type": "code",
      "execution_count": null,
      "id": "d415cb66",
      "metadata": {
        "id": "d415cb66",
        "outputId": "0c791574-508e-42f0-908a-fb8ff9001f9c"
      },
      "outputs": [
        {
          "name": "stdout",
          "output_type": "stream",
          "text": [
            "enter number: 555\n",
            "enter number: 1111\n",
            "The largest number betweeen 555 and 1111 is 1111\n"
          ]
        }
      ],
      "source": [
        "#create a lambda functiopn to find largest number btwn 2 numbers.\n",
        "l = lambda a, b: a if a > b else b\n",
        "x=int(input(\"enter number: \"))\n",
        "y=int(input(\"enter number: \"))\n",
        "print(f\"The largest number betweeen {x} and {y} is {l(x,y)}\")"
      ]
    },
    {
      "cell_type": "code",
      "execution_count": null,
      "id": "c51fc40a",
      "metadata": {
        "id": "c51fc40a",
        "outputId": "24f461d7-29d6-4b13-9792-ef95ba4de51a"
      },
      "outputs": [
        {
          "name": "stdout",
          "output_type": "stream",
          "text": [
            "<filter object at 0x00000224668FD660>\n",
            "[2, 4, 6, 8, 10]\n",
            "(2, 4, 6, 8, 10)\n"
          ]
        }
      ],
      "source": [
        "numbers=[1,2,3,4,5,6,7,8,9,10]\n",
        "def even(n):\n",
        "    if n%2==0:\n",
        "        return True\n",
        "evennum=filter(even,numbers)\n",
        "evennumlist=list(evennum)\n",
        "print(evennum)\n",
        "print(evennumlist)\n",
        "print(tuple(evennumlist))"
      ]
    },
    {
      "cell_type": "code",
      "execution_count": null,
      "id": "a80c4d98",
      "metadata": {
        "id": "a80c4d98",
        "outputId": "24272801-877e-4028-f637-398a5086b53f"
      },
      "outputs": [
        {
          "name": "stdout",
          "output_type": "stream",
          "text": [
            "<filter object at 0x00000224668FD210>\n",
            "[2, 4, 6, 8, 10]\n",
            "(2, 4, 6, 8, 10)\n",
            "{2, 4, 6, 8, 10}\n"
          ]
        }
      ],
      "source": [
        "numbers=[1,2,3,4,5,6,7,8,9,10]\n",
        "\n",
        "evennum=filter(lambda n:n%2==0,numbers)\n",
        "evennumlist=list(evennum)\n",
        "print(evennum)\n",
        "print(evennumlist)\n",
        "print(tuple(evennumlist))\n",
        "print(set(evennumlist))"
      ]
    },
    {
      "cell_type": "code",
      "execution_count": null,
      "id": "75374268",
      "metadata": {
        "id": "75374268",
        "outputId": "928b227d-6f63-40cc-f588-4921d82a4d5b"
      },
      "outputs": [
        {
          "name": "stdout",
          "output_type": "stream",
          "text": [
            "[1000, 125, 1728, 474552, 216, 1, 343, 729]\n"
          ]
        }
      ],
      "source": [
        "numlist=[10,5,12,78,6,1,7,9]\n",
        "cubelist=list(map(lambda x:x**3,numlist))\n",
        "print(cubelist) #map function can be applied on multiple list."
      ]
    },
    {
      "cell_type": "code",
      "execution_count": null,
      "id": "a14310e9",
      "metadata": {
        "id": "a14310e9",
        "outputId": "02834ce5-8e97-4740-9966-44a13d583ada"
      },
      "outputs": [
        {
          "name": "stdout",
          "output_type": "stream",
          "text": [
            "[2, 6, 12, 20]\n"
          ]
        }
      ],
      "source": [
        "l1=[1,2,3,4]\n",
        "l2=[2,3,4,5]\n",
        "result=list(map(lambda x,y:x*y,l1,l2))\n",
        "print(result)"
      ]
    },
    {
      "cell_type": "code",
      "execution_count": null,
      "id": "3c113540",
      "metadata": {
        "id": "3c113540",
        "outputId": "4cf93b21-89c4-4961-9062-d5a75ede7206"
      },
      "outputs": [
        {
          "name": "stdout",
          "output_type": "stream",
          "text": [
            "[153.86, 12.56, 28.259999999999998, 50.24]\n"
          ]
        }
      ],
      "source": [
        "#create a map  function to find area of cricle as radius given in list\n",
        "l1=[7,2,3,4]\n",
        "area=list(map(lambda x: x*3.14*x,l1))\n",
        "print(area)"
      ]
    },
    {
      "cell_type": "code",
      "execution_count": null,
      "id": "d21cf64a",
      "metadata": {
        "id": "d21cf64a",
        "outputId": "6124423e-5ed1-4579-f2dd-e11f36b6e20e"
      },
      "outputs": [
        {
          "name": "stdout",
          "output_type": "stream",
          "text": [
            "-4.5\n"
          ]
        }
      ],
      "source": [
        "#write a python program to find a smallest number in given list using reduce function.\n",
        "import functools\n",
        "l1=[1,112,3,-4.5,5,8,11,45]\n",
        "smallest=functools.reduce(lambda x,y: x if x<y else y,l1)\n",
        "print(smallest)"
      ]
    },
    {
      "cell_type": "code",
      "execution_count": null,
      "id": "0adb9967",
      "metadata": {
        "id": "0adb9967",
        "outputId": "26c0e1da-5901-4b04-b965-858c2a6a50e2"
      },
      "outputs": [
        {
          "name": "stdout",
          "output_type": "stream",
          "text": [
            "1275\n"
          ]
        }
      ],
      "source": [
        "#write a python program to calculate a sum of 50 natural numbers using reduce function.\n",
        "import functools\n",
        "\n",
        "s=functools.reduce(lambda a,b:a+b,range(1,51))\n",
        "print(s)"
      ]
    },
    {
      "cell_type": "code",
      "execution_count": null,
      "id": "f502c7f8",
      "metadata": {
        "id": "f502c7f8",
        "outputId": "f3537d35-d7a0-427d-d839-8291d382c07b"
      },
      "outputs": [
        {
          "name": "stdout",
          "output_type": "stream",
          "text": [
            "I am an NIETian\n",
            "I am an NIETian\n"
          ]
        }
      ],
      "source": [
        "def demo():\n",
        "    print(\"I am an NIETian\")\n",
        "demo()\n",
        "sample=demo\n",
        "sample()\n",
        "def demo():\n",
        "    demo()\n",
        "    sample()"
      ]
    },
    {
      "cell_type": "code",
      "execution_count": null,
      "id": "524f28a9",
      "metadata": {
        "id": "524f28a9",
        "outputId": "6ea3bcd7-a4f5-4a6e-c915-cb44c9d8744f"
      },
      "outputs": [
        {
          "name": "stdout",
          "output_type": "stream",
          "text": [
            "0.10935725865607016\n",
            "9\n",
            "0.9151591788810436\n",
            "3\n",
            "0.5702634963471497\n",
            "1\n",
            "0.7292119452716606\n",
            "0\n",
            "0.2651638118961195\n",
            "9\n",
            "0.3733386783949493\n",
            "6\n",
            "0.6695572615347861\n",
            "4\n",
            "0.3312254400321314\n",
            "9\n",
            "0.97010921722816\n",
            "5\n",
            "0.04863556544875203\n",
            "2\n"
          ]
        }
      ],
      "source": [
        "import random\n",
        "for i in range(10):\n",
        "    print(random.random())\n",
        "\n",
        "    print(random.randrange(10))\n"
      ]
    },
    {
      "cell_type": "code",
      "execution_count": null,
      "id": "ab1d5725",
      "metadata": {
        "colab": {
          "base_uri": "https://localhost:8080/"
        },
        "id": "ab1d5725",
        "outputId": "22da410d-0b99-4a1c-eee9-3a71b29af6d4"
      },
      "outputs": [
        {
          "output_type": "stream",
          "name": "stdout",
          "text": [
            "red black green\n"
          ]
        }
      ],
      "source": [
        "colors=['red','black','green']\n",
        "R,B,G=colors\n",
        "print(R,B,G)"
      ]
    },
    {
      "cell_type": "code",
      "source": [
        "*a,b=[1,2,3,4]\n",
        "print(type(a))\n",
        "print(a,b)\n"
      ],
      "metadata": {
        "colab": {
          "base_uri": "https://localhost:8080/"
        },
        "id": "wLMoB5bihRvH",
        "outputId": "fd404af6-e598-4e3d-9ec4-f4622222bd75"
      },
      "id": "wLMoB5bihRvH",
      "execution_count": null,
      "outputs": [
        {
          "output_type": "stream",
          "name": "stdout",
          "text": [
            "<class 'list'>\n",
            "[1, 2, 3] 4\n"
          ]
        }
      ]
    },
    {
      "cell_type": "code",
      "source": [
        "*b,a=[1,2,3,4]\n",
        "print(type(a))\n",
        "print(a,b)"
      ],
      "metadata": {
        "colab": {
          "base_uri": "https://localhost:8080/"
        },
        "id": "f5roLd0HhUdG",
        "outputId": "fa3edfd3-650d-4319-96d0-37b9eeae92a2"
      },
      "id": "f5roLd0HhUdG",
      "execution_count": null,
      "outputs": [
        {
          "output_type": "stream",
          "name": "stdout",
          "text": [
            "<class 'int'>\n",
            "4 [1, 2, 3]\n"
          ]
        }
      ]
    },
    {
      "cell_type": "code",
      "source": [
        "b,*a,c=[1,2,3,4]\n",
        "print(a,b,c)"
      ],
      "metadata": {
        "colab": {
          "base_uri": "https://localhost:8080/"
        },
        "id": "NuR4xCTOhXH2",
        "outputId": "ba9f5f78-62d9-43f9-bd8c-235938ebeb68"
      },
      "id": "NuR4xCTOhXH2",
      "execution_count": null,
      "outputs": [
        {
          "output_type": "stream",
          "name": "stdout",
          "text": [
            "[2, 3] 1 4\n"
          ]
        }
      ]
    },
    {
      "cell_type": "code",
      "source": [
        "b,*a,c=[1,2]\n",
        "print(b,a,c)"
      ],
      "metadata": {
        "id": "lS0CyjOBhZgW",
        "outputId": "c780684b-867b-4490-9218-97acd767ddcf",
        "colab": {
          "base_uri": "https://localhost:8080/"
        }
      },
      "id": "lS0CyjOBhZgW",
      "execution_count": null,
      "outputs": [
        {
          "output_type": "stream",
          "name": "stdout",
          "text": [
            "1 [] 2\n"
          ]
        }
      ]
    },
    {
      "cell_type": "code",
      "source": [
        "l1=('red','blue','yellow')\n",
        "print(l1[0])"
      ],
      "metadata": {
        "id": "IZtU2aQRhbpG",
        "outputId": "c411b422-c36d-45eb-c6ca-09b7b29a9001",
        "colab": {
          "base_uri": "https://localhost:8080/"
        }
      },
      "id": "IZtU2aQRhbpG",
      "execution_count": null,
      "outputs": [
        {
          "output_type": "stream",
          "name": "stdout",
          "text": [
            "red\n"
          ]
        }
      ]
    },
    {
      "cell_type": "code",
      "source": [],
      "metadata": {
        "id": "y9oIaAWLhdw2"
      },
      "id": "y9oIaAWLhdw2",
      "execution_count": null,
      "outputs": []
    }
  ],
  "metadata": {
    "kernelspec": {
      "display_name": "Python 3 (ipykernel)",
      "language": "python",
      "name": "python3"
    },
    "language_info": {
      "codemirror_mode": {
        "name": "ipython",
        "version": 3
      },
      "file_extension": ".py",
      "mimetype": "text/x-python",
      "name": "python",
      "nbconvert_exporter": "python",
      "pygments_lexer": "ipython3",
      "version": "3.11.5"
    },
    "colab": {
      "provenance": [],
      "include_colab_link": true
    }
  },
  "nbformat": 4,
  "nbformat_minor": 5
}